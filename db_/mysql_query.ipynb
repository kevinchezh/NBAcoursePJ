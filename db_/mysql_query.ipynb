{
 "cells": [
  {
   "cell_type": "markdown",
   "metadata": {},
   "source": [
    "# This is the notebook we use to test our queries. For some queries, we need to get condition from frontend. So we make them as  functions. For others, we will just show the results. "
   ]
  },
  {
   "cell_type": "code",
   "execution_count": 1,
   "metadata": {},
   "outputs": [],
   "source": [
    "# pymysql is the library in python to connect mysql. \n",
    "#In this notebook, I have already provide you with the username, password, host and database\n",
    "\n",
    "import pymysql as pm\n",
    "name  = 'cywdatabase.ccszxqpi5wa6.us-east-1.rds.amazonaws.com'\n",
    "db = pm.connect(host = name,user = 'chenyunw',password = 'z1x2c3v4',db = 'cis550')\n",
    "cursor = db.cursor()"
   ]
  },
  {
   "cell_type": "markdown",
   "metadata": {},
   "source": [
    "schema for post/reg players:\n",
    "['PLAYER_ID','PLAYER','TEAM','GP','MIN','FG_PCT','FG3_PCT','FT_PCT','REB','AST','STL','BLK','TOV','EFF','PTS','year']\n",
    "where PLAYER_ID,TEAM,year are keys\n",
    "schema for post/reg \n",
    "['TEAM_ID','TEAM_NAME','W','L','W_PCT','FG_PCT','FG3_PCT','FT_PCT','REB','AST','STL','BLK','TOV','PTS','year']\n",
    "where TEAM_ID,TEAM_NAME,year are keys\n",
    "\n",
    "schema for ratings:\n",
    "Team,Player,Position,Overall ,Height,Weight,Tier,Program,Playstyle,Speed,Midrange,Finishing ,3Pt,Dribble,PostScoringt,Rebound ,Defense\n",
    "schema for salary:\n",
    "'Player','2018season','2019season','2020season','2021season'\n",
    "\n",
    "\n",
    "The 6 tables are :\n",
    "(('PostSeasonPlayer',),\n",
    " ('PostSeasonTeam',),\n",
    " ('Ratings',),\n",
    " ('RegSeasonPlayer',),\n",
    " ('RegSeasonTeam',),\n",
    " ('Salary',))"
   ]
  },
  {
   "cell_type": "markdown",
   "metadata": {},
   "source": [
    "## Basic Queries:\n",
    "in the following cells, we will write some basic queries. For example, we will present information of a certain player or team. W e will also try to add index to see whether it can be searched faster. "
   ]
  },
  {
   "cell_type": "code",
   "execution_count": 2,
   "metadata": {},
   "outputs": [],
   "source": [
    "#This is the Basic Query for player. In practise, we will add more fields such as STL and BLK and FG_PCT.  \n",
    "#But here, we just show how we do if some fields are missing.\n",
    "\n",
    "def Player(name,PTS = None,AST = None, REB = None,year = None,Reg = True):\n",
    "    pts = ''\n",
    "    ast = ''\n",
    "    reb = ''\n",
    "    y = ''\n",
    "    season = 'PostSeasonPlayer'\n",
    "    if PTS != None:\n",
    "        pts = ' and PTS = ' + str(PTS)\n",
    "    if AST != None:\n",
    "        ast = ' and AST = ' + str(AST)\n",
    "    if REB !=None:\n",
    "        reb = ' and REB = ' +str(AST)\n",
    "    if year != None:\n",
    "        y = ' and year = ' + str(year)\n",
    "    if Reg:\n",
    "        season = 'RegSeasonPlayer'\n",
    "    name = \"PLAYER = \" +\"'\" +name+\"'\"\n",
    "    \n",
    "    query = 'SELECT PLAYER,PTS,AST,REB,year,TEAM FROM ' + season + ' WHERE ' +name + pts+ast+reb+y\n",
    "#     print(query)\n",
    "    cursor.execute(query)\n",
    "    return cursor.fetchall()"
   ]
  },
  {
   "cell_type": "code",
   "execution_count": 3,
   "metadata": {},
   "outputs": [
    {
     "name": "stdout",
     "output_type": "stream",
     "text": [
      "CPU times: user 3 µs, sys: 1 µs, total: 4 µs\n",
      "Wall time: 7.15 µs\n"
     ]
    },
    {
     "data": {
      "text/plain": [
       "(('James Harden', 25.9, 5.8, 4.9, 2012, 'Houston Rockets'),\n",
       " ('James Harden', 25.4, 6.1, 4.7, 2013, 'Houston Rockets'),\n",
       " ('James Harden', 27.4, 7.0, 5.7, 2014, 'Houston Rockets'),\n",
       " ('James Harden', 29.0, 7.5, 6.1, 2015, 'Houston Rockets'),\n",
       " ('James Harden', 29.1, 11.2, 8.1, 2016, 'Houston Rockets'),\n",
       " ('James Harden', 30.4, 8.8, 5.4, 2017, 'Houston Rockets'),\n",
       " ('James Harden', 9.9, 1.8, 3.2, 2009, 'Oklahoma City Thunder'),\n",
       " ('James Harden', 12.2, 2.1, 3.1, 2010, 'Oklahoma City Thunder'),\n",
       " ('James Harden', 16.8, 3.7, 4.1, 2011, 'Oklahoma City Thunder'))"
      ]
     },
     "execution_count": 3,
     "metadata": {},
     "output_type": "execute_result"
    }
   ],
   "source": [
    "#Basic Query for player. We can revise the return field \n",
    "%time\n",
    "\n",
    "Player('James Harden',Reg = True)\n",
    "# CPU times: user 3 µs, sys: 1e+03 ns, total: 4 µs\n",
    "# Wall time: 6.91 µs\n",
    "    \n",
    "    \n",
    "    "
   ]
  },
  {
   "cell_type": "code",
   "execution_count": 4,
   "metadata": {},
   "outputs": [
    {
     "name": "stdout",
     "output_type": "stream",
     "text": [
      "SELECT TEAM_NAME,PTS,AST,REB,year FROM PostSeasonTeam WHERE TEAM_NAME = 'Houston Rockets'\n"
     ]
    },
    {
     "data": {
      "text/plain": [
       "(('Houston Rockets', 84.6, 17.2, 44.4, 2003),\n",
       " ('Houston Rockets', 97.6, 18.0, 37.7, 2004),\n",
       " ('Houston Rockets', 87.3, 18.1, 41.6, 2006),\n",
       " ('Houston Rockets', 88.0, 15.5, 42.0, 2007),\n",
       " ('Houston Rockets', 91.5, 17.0, 40.5, 2008),\n",
       " ('Houston Rockets', 100.0, 18.0, 43.5, 2012),\n",
       " ('Houston Rockets', 112.0, 18.3, 49.2, 2013),\n",
       " ('Houston Rockets', 108.2, 21.9, 45.7, 2014),\n",
       " ('Houston Rockets', 91.2, 18.0, 47.4, 2015),\n",
       " ('Houston Rockets', 107.7, 19.5, 42.9, 2016),\n",
       " ('Houston Rockets', 104.9, 18.8, 43.0, 2017))"
      ]
     },
     "execution_count": 4,
     "metadata": {},
     "output_type": "execute_result"
    }
   ],
   "source": [
    "#Basic Query for team\n",
    "def Player(TEAM,PTS = None,AST = None, REB = None,year = None,Reg = True):\n",
    "    pts = ''\n",
    "    ast = ''\n",
    "    reb = ''\n",
    "    y = ''\n",
    "    season = 'PostSeasonTeam'\n",
    "    if PTS != None:\n",
    "        pts = ' and PTS = ' + str(PTS)\n",
    "    if AST != None:\n",
    "        ast = ' and AST = ' + str(AST)\n",
    "    if REB !=None:\n",
    "        reb = ' and REB = ' +str(AST)\n",
    "    if year != None:\n",
    "        y = ' and year = ' + str(year)\n",
    "    if Reg:\n",
    "        season = 'RegSeasonTeam'\n",
    "    name = \"TEAM_NAME = \" +\"'\" +TEAM+\"'\"\n",
    "\n",
    "    query = 'SELECT TEAM_NAME,PTS,AST,REB,year FROM ' + season + ' WHERE ' +name + pts+ast+reb+y\n",
    "    print(query)\n",
    "    cursor.execute(query)\n",
    "    result = cursor.fetchall()\n",
    "    return result\n",
    "\n",
    "#example\n",
    "Player('Houston Rockets',Reg = False)"
   ]
  },
  {
   "cell_type": "code",
   "execution_count": 7,
   "metadata": {},
   "outputs": [
    {
     "data": {
      "text/plain": [
       "(('Houston Rockets',\n",
       "  '46.72',\n",
       "  '34.39',\n",
       "  '0.58',\n",
       "  '0.45',\n",
       "  '100.50',\n",
       "  '21.17',\n",
       "  '43.10'),)"
      ]
     },
     "execution_count": 7,
     "metadata": {},
     "output_type": "execute_result"
    }
   ],
   "source": [
    "# total average attributes through 21st century\n",
    "team = 'Houston Rockets'\n",
    "sql = \"select TEAM_NAME,format(AVG(W),2) as avrage_win,format(AVG(L),2) as average_loss,format(SUM(W)/(SUM(W+L)),2) as average_WPCT \\\n",
    ",format(SUM((W+L)*FG_PCT)/SUM(W+L),2) AS average_FGPCT \\\n",
    ",format(SUM((W+L)*PTS)/SUM(W+L),2) as average_pts,format(SUM((W+L)*AST)/SUM(W+L),2) as average_ast \\\n",
    ",format(SUM((W+L)*REB)/SUM(W+L),2) as average_REB FROM RegSeasonTeam Where TEAM_NAME = '\"+team+\"' GROUP BY TEAM_NAME\"\n",
    "cursor.execute(sql)\n",
    "cursor.fetchall()"
   ]
  },
  {
   "cell_type": "code",
   "execution_count": 5,
   "metadata": {},
   "outputs": [
    {
     "data": {
      "text/plain": [
       "(('Kobe Bryant',\n",
       "  27.46275264053418,\n",
       "  5.083445621064584,\n",
       "  5.549951897548643,\n",
       "  1.5214629458968059,\n",
       "  0.4367661285245499,\n",
       "  0.44815880685499704,\n",
       "  0.32778248411744),)"
      ]
     },
     "execution_count": 5,
     "metadata": {},
     "output_type": "execute_result"
    }
   ],
   "source": [
    "#average fields of a player\n",
    "#in the player person page, we will show the average data. Though some information are missing , such as PCT, we will use the same fucntion to\n",
    "#calculate that\n",
    "def average_pts(name):\n",
    "    name_search = 'PLAYER = ' + \"'\"+name +\"'\"\n",
    "    sql = 'SELECT PLAYER, SUM(GP*PTS)/SUM(GP) as average_pts, \\\n",
    "    SUM(GP*AST)/SUM(GP) as average_ast,SUM(GP*REB)/SUM(GP) as average_reb, \\\n",
    "    SUM(GP*STL)/SUM(GP) as average_stl, SUM(GP*BLK)/SUM(GP) as average_blk, \\\n",
    "    SUM(GP*FG_PCT)/SUM(GP) as average_pct,SUM(GP*FG3_PCT)/SUM(GP) as average_3pct \\\n",
    "    FROM RegSeasonPlayer WHERE '+name_search + 'GROUP BY PLAYER'\n",
    "    cursor.execute(sql)\n",
    "    return cursor.fetchall()\n",
    "\n",
    "name = 'Kobe Bryant'\n",
    "average_pts(name)"
   ]
  },
  {
   "cell_type": "markdown",
   "metadata": {},
   "source": [
    "## Do we need index in this database? It seems since we will sometimes query on PTS, but let's look at how it performs with/without index"
   ]
  },
  {
   "cell_type": "code",
   "execution_count": 10,
   "metadata": {},
   "outputs": [
    {
     "data": {
      "text/plain": [
       "8.522034502006136"
      ]
     },
     "execution_count": 10,
     "metadata": {},
     "output_type": "execute_result"
    }
   ],
   "source": [
    "import timeit\n",
    "sql = 'select PLAYER ,PTS FROM RegSeasonPlayer where PTS >22.5 and PTS <30 LIMIT 5'\n",
    "start_time = timeit.default_timer()\n",
    "for i in range(1000):\n",
    "    cursor.execute(sql)\n",
    "elapsed = timeit.default_timer() - start_time\n",
    "elapsed\n",
    "#while running for 1000times,we use 8.522s"
   ]
  },
  {
   "cell_type": "code",
   "execution_count": 13,
   "metadata": {},
   "outputs": [
    {
     "data": {
      "text/plain": [
       "0"
      ]
     },
     "execution_count": 13,
     "metadata": {},
     "output_type": "execute_result"
    }
   ],
   "source": [
    "index ='CREATE INDEX multi_index on RegSeasonPlayer(PTS,AST,REB)'\n",
    "cursor.execute(index)"
   ]
  },
  {
   "cell_type": "code",
   "execution_count": 14,
   "metadata": {},
   "outputs": [
    {
     "data": {
      "text/plain": [
       "8.482392670004629"
      ]
     },
     "execution_count": 14,
     "metadata": {},
     "output_type": "execute_result"
    }
   ],
   "source": [
    "import timeit\n",
    "sql = 'select PLAYER ,PTS FROM RegSeasonPlayer where PTS >22.5 and PTS <30 LIMIT 5'\n",
    "start_time = timeit.default_timer()\n",
    "for i in range(1000):\n",
    "    cursor.execute(sql)\n",
    "elapsed = timeit.default_timer() - start_time\n",
    "elapsed\n",
    "\n",
    "#From the result , we find after adding index, running 1000 times improves by only 0.04s,which means it improves 0.00004 for each query\n",
    "#we know index will improve our speed, but it seems it wont improve much for a small database.\n",
    "#I also add sql to drop them, I keep them now but you can delete if you want."
   ]
  },
  {
   "cell_type": "code",
   "execution_count": 12,
   "metadata": {},
   "outputs": [
    {
     "data": {
      "text/plain": [
       "0"
      ]
     },
     "execution_count": 12,
     "metadata": {},
     "output_type": "execute_result"
    }
   ],
   "source": [
    "# drop_index = 'DROP INDEX multi_index on RegSeasonPlayer'\n",
    "# cursor.execute(drop_index)"
   ]
  },
  {
   "cell_type": "markdown",
   "metadata": {},
   "source": [
    "# Advanced Queries"
   ]
  },
  {
   "cell_type": "code",
   "execution_count": 15,
   "metadata": {},
   "outputs": [
    {
     "data": {
      "text/plain": [
       "(('Rajon Rondo', 1.4878048893952927, 2017, 12.2, 8.2),\n",
       " ('Jason Kidd', 1.3571428501918783, 2000, 13.3, 9.8),\n",
       " ('John Stockton', 1.3103448124665187, 2000, 11.4, 8.7),\n",
       " ('John Stockton', 1.2195122234882314, 2001, 10.0, 8.2),\n",
       " ('Rajon Rondo', 1.1951220022788165, 2008, 9.8, 8.2),\n",
       " ('Jason Kidd', 1.1847825917945238, 2006, 10.9, 9.2),\n",
       " ('Chris Paul', 1.1734693649161716, 2010, 11.5, 9.8),\n",
       " ('Steve Nash', 1.1465517028758705, 2006, 13.3, 11.6),\n",
       " ('Jason Kidd', 1.142857240170853, 2005, 9.6, 8.4),\n",
       " ('Chris Paul', 1.076086937367127, 2016, 9.9, 9.2))"
      ]
     },
     "execution_count": 15,
     "metadata": {},
     "output_type": "execute_result"
    }
   ],
   "source": [
    "#Query 1:\n",
    "#Who is the best postseason type player? \n",
    "#Which means he has a better performance in post season than in regular season by points, assists, and Reb.\n",
    "\n",
    "def better_player(compare):\n",
    "    sql1 = None\n",
    "    if compare == 'PTS':\n",
    "        sql1 = 'select rp.player,(pp.PTS/rp.PTS) as PTS_RATIO, rp.year,pp.PTS,rp.PTS \\\n",
    "        FROM RegSeasonPlayer rp join PostSeasonPlayer pp on rp.PLAYER_ID = pp.PLAYER_ID and pp.year = rp.year \\\n",
    "        WHERE rp.PTS > 20 \\\n",
    "        ORDER BY PTS_RATIO DESC LIMIT 10'\n",
    "    elif compare == 'AST':\n",
    "        sql1 = 'select rp.player,(pp.AST/rp.AST) as AST_RATIO, rp.year,pp.AST,rp.AST \\\n",
    "        FROM RegSeasonPlayer rp join PostSeasonPlayer pp on rp.PLAYER_ID = pp.PLAYER_ID and pp.year = rp.year \\\n",
    "        WHERE rp.AST > 8 \\\n",
    "        ORDER BY AST_RATIO DESC LIMIT 10'\n",
    "    elif compare == 'REB':\n",
    "        sql1 = 'select rp.player,(pp.REB/rp.REB) as REB_RATIO, rp.year,pp.REB,rp.REB \\\n",
    "        FROM RegSeasonPlayer rp join PostSeasonPlayer pp on rp.PLAYER_ID = pp.PLAYER_ID and pp.year = rp.year \\\n",
    "        WHERE rp.REB > 8 \\\n",
    "        ORDER BY REB_RATIO DESC LIMIT 10'\n",
    "    return sql1\n",
    "\n",
    "compare = 'AST'\n",
    "sql1 = better_player(compare)\n",
    "sql1\n",
    "if sql1 != None:\n",
    "    cursor.execute(sql1)\n",
    "    result = cursor.fetchall()\n",
    "result"
   ]
  },
  {
   "cell_type": "code",
   "execution_count": 2,
   "metadata": {},
   "outputs": [
    {
     "data": {
      "text/plain": [
       "(('RegSeasonPlayer',\n",
       "  0,\n",
       "  'PRIMARY',\n",
       "  1,\n",
       "  'PLAYER_ID',\n",
       "  'A',\n",
       "  920,\n",
       "  None,\n",
       "  None,\n",
       "  '',\n",
       "  'BTREE',\n",
       "  '',\n",
       "  '',\n",
       "  'YES'),\n",
       " ('RegSeasonPlayer',\n",
       "  0,\n",
       "  'PRIMARY',\n",
       "  2,\n",
       "  'TEAM',\n",
       "  'A',\n",
       "  1903,\n",
       "  None,\n",
       "  None,\n",
       "  '',\n",
       "  'BTREE',\n",
       "  '',\n",
       "  '',\n",
       "  'YES'),\n",
       " ('RegSeasonPlayer',\n",
       "  0,\n",
       "  'PRIMARY',\n",
       "  3,\n",
       "  'year',\n",
       "  'A',\n",
       "  3707,\n",
       "  None,\n",
       "  None,\n",
       "  '',\n",
       "  'BTREE',\n",
       "  '',\n",
       "  '',\n",
       "  'YES'),\n",
       " ('RegSeasonPlayer',\n",
       "  1,\n",
       "  'TEAM',\n",
       "  1,\n",
       "  'TEAM',\n",
       "  'A',\n",
       "  36,\n",
       "  None,\n",
       "  None,\n",
       "  '',\n",
       "  'BTREE',\n",
       "  '',\n",
       "  '',\n",
       "  'YES'),\n",
       " ('RegSeasonPlayer',\n",
       "  1,\n",
       "  'TEAM',\n",
       "  2,\n",
       "  'year',\n",
       "  'A',\n",
       "  536,\n",
       "  None,\n",
       "  None,\n",
       "  '',\n",
       "  'BTREE',\n",
       "  '',\n",
       "  '',\n",
       "  'YES'),\n",
       " ('RegSeasonPlayer',\n",
       "  1,\n",
       "  'multi_index',\n",
       "  1,\n",
       "  'PTS',\n",
       "  'A',\n",
       "  289,\n",
       "  None,\n",
       "  None,\n",
       "  'YES',\n",
       "  'BTREE',\n",
       "  '',\n",
       "  '',\n",
       "  'YES'),\n",
       " ('RegSeasonPlayer',\n",
       "  1,\n",
       "  'multi_index',\n",
       "  2,\n",
       "  'AST',\n",
       "  'A',\n",
       "  2818,\n",
       "  None,\n",
       "  None,\n",
       "  'YES',\n",
       "  'BTREE',\n",
       "  '',\n",
       "  '',\n",
       "  'YES'),\n",
       " ('RegSeasonPlayer',\n",
       "  1,\n",
       "  'multi_index',\n",
       "  3,\n",
       "  'REB',\n",
       "  'A',\n",
       "  3683,\n",
       "  None,\n",
       "  None,\n",
       "  'YES',\n",
       "  'BTREE',\n",
       "  '',\n",
       "  '',\n",
       "  'YES'))"
      ]
     },
     "execution_count": 2,
     "metadata": {},
     "output_type": "execute_result"
    }
   ],
   "source": [
    "#Query2\n",
    "\n",
    "# as  PTS will appear in most where query,we set PTS as index\n",
    "# sql_index_PTS = 'create index index_PTS on RegSeasonPlayer(PTS)'\n",
    "# # as 2018season salary may appear in most where querys, we set it as index\n",
    "# sql_index_salary = 'create index index_salary on Salary(2018season)'\n",
    "# # after set index,we just comment these sql\n",
    "# cursor.execute(sql_index_PTS)\n",
    "# cursor.execute(sql_index_salary)\n",
    "cursor.execute('show keys from RegSeasonPlayer')\n",
    "cursor.fetchall()"
   ]
  },
  {
   "cell_type": "code",
   "execution_count": null,
   "metadata": {},
   "outputs": [],
   "source": []
  },
  {
   "cell_type": "code",
   "execution_count": 17,
   "metadata": {},
   "outputs": [
    {
     "data": {
      "text/plain": [
       "(('Donovan Mitchell', 151779.51219512196),\n",
       " ('Karl-Anthony Towns', 368048.6047323381),\n",
       " ('Kemba Walker', 542986.415966838),\n",
       " ('Khris Middleton', 646766.156879517),\n",
       " ('Kyrie Irving', 823737.2669766734),\n",
       " ('Jimmy Butler', 893766.9512662131),\n",
       " ('Giannis Antetokounmpo', 898041.053627341),\n",
       " ('Anthony Davis', 905133.9023031608),\n",
       " ('Victor Oladipo', 909090.8940783266),\n",
       " ('LaMarcus Aldridge', 967403.2307777037))"
      ]
     },
     "execution_count": 17,
     "metadata": {},
     "output_type": "execute_result"
    }
   ],
   "source": [
    "# Query2\n",
    "# Among those top players, whose contract has best price–performance ratio? Whose has the worst?\n",
    "# To make it simple, we assume he must get at least 20 points, and his salary/pts is very high.\n",
    "\n",
    "sql2 = 'Select rp.PLAYER, (s.2018season/rp.PTS) as salary_Pts_Ratio from RegSeasonPlayer rp join Salary s on rp.PLAYER = s.Player where rp.PTS > 20 and rp.year = 2017 ORDER BY salary_Pts_Ratio LIMIT 10'\n",
    "cursor.execute(sql2)\n",
    "cursor.fetchall()\n",
    "#There is no surprise Mitchell has the best salary-pts ratio since he's still in rookie contract,but among those have big contract, who has the worst?\n",
    "# it can also be described as, whose contract is worth for the team."
   ]
  },
  {
   "cell_type": "code",
   "execution_count": 19,
   "metadata": {},
   "outputs": [
    {
     "data": {
      "text/plain": [
       "(('LaMarcus Aldridge', '967,403'),\n",
       " ('Victor Oladipo', '909,091'),\n",
       " ('Anthony Davis', '905,134'),\n",
       " ('Giannis Antetokounmpo', '898,041'),\n",
       " ('Kyrie Irving', '823,737'),\n",
       " ('Al Horford', '2,242,536'),\n",
       " ('Ryan Anderson', '2,195,865'),\n",
       " ('Nicolas Batum', '2,068,965'),\n",
       " ('Chris Paul', '1,916,890'),\n",
       " ('Kyle Lowry', '1,913,580'))"
      ]
     },
     "execution_count": 19,
     "metadata": {},
     "output_type": "execute_result"
    }
   ],
   "source": [
    "# Query 3\n",
    "# under contract, whose contract is least worth? Here we query by points only, but we can also query AST and REB either.\n",
    "# The condition is that he must have a high contract. Those with vet contract will make this query a bit strange.\n",
    "sql3 = 'Select rp.PLAYER, format((s.2018season/rp.PTS),0) as salary_Pts_Ratio from RegSeasonPlayer rp join Salary s on rp.PLAYER = s.Player where s.2018season>20000000 and rp.year = 2017 ORDER BY salary_Pts_Ratio desc LIMIT 10'\n",
    "cursor.execute(sql3)\n",
    "cursor.fetchall()\n",
    "\n",
    "\n",
    "# surprise? But remember we only take points into consideration. And Paul contribute assist most!\n",
    "# And you will find why Rockets wants to trade Anderson -- low contribution! But their addition Anthony is not much better... "
   ]
  },
  {
   "cell_type": "markdown",
   "metadata": {},
   "source": [
    "## Whether relation algebra works in this database? In the following queries, the first one is just cross product and in the second one ,we select first. But the speed is almost the same. "
   ]
  },
  {
   "cell_type": "code",
   "execution_count": 6,
   "metadata": {},
   "outputs": [
    {
     "data": {
      "text/plain": [
       "14.146420588000183"
      ]
     },
     "execution_count": 6,
     "metadata": {},
     "output_type": "execute_result"
    }
   ],
   "source": [
    "import timeit\n",
    "start_time = timeit.default_timer()\n",
    "for i in range(1000):\n",
    "    sql3 = 'Select rp.PLAYER, (s.2018season/rp.PTS) as salary_Pts_Ratio from RegSeasonPlayer rp,Salary s where rp.PLAYER = s.Player and s.2018season>20000000 and rp.year = 2017 ORDER BY salary_Pts_Ratio desc LIMIT 10'\n",
    "    cursor.execute(sql3)\n",
    "\n",
    "end_time = timeit.default_timer()\n",
    "elapsed = timeit.default_timer() - start_time\n",
    "elapsed\n",
    "\n"
   ]
  },
  {
   "cell_type": "code",
   "execution_count": 4,
   "metadata": {},
   "outputs": [
    {
     "data": {
      "text/plain": [
       "14.321036563000234"
      ]
     },
     "execution_count": 4,
     "metadata": {},
     "output_type": "execute_result"
    }
   ],
   "source": [
    "import timeit\n",
    "start_time = timeit.default_timer()\n",
    "for i in range(1000):\n",
    "    sql3 = 'Select rp.PLAYER, (s.2018season/rp.PTS) as salary_Pts_Ratio from (select PLAYER,PTS FROM RegSeasonPlayer where year = 2017) rp join (select 2018season,Player from Salary where 2018season>20000000) s on rp.PLAYER = s.Player ORDER BY salary_Pts_Ratio desc LIMIT 10'\n",
    "    cursor.execute(sql3)\n",
    "\n",
    "end_time = timeit.default_timer()\n",
    "elapsed = timeit.default_timer() - start_time\n",
    "elapsed"
   ]
  },
  {
   "cell_type": "code",
   "execution_count": null,
   "metadata": {},
   "outputs": [],
   "source": []
  },
  {
   "cell_type": "code",
   "execution_count": 19,
   "metadata": {},
   "outputs": [
    {
     "data": {
      "text/plain": [
       "(('Kemba Walker', 22.1, 2017),\n",
       " ('Klay Thompson', 20.0, 2017),\n",
       " ('Tobias Harris', 18.6, 2017),\n",
       " ('Eric Bledsoe', 17.7, 2017),\n",
       " ('JJ Redick', 17.1, 2017),\n",
       " ('Carmelo Anthony', 16.2, 2017),\n",
       " ('Austin Rivers', 15.1, 2017),\n",
       " ('Rodney Hood', 14.7, 2017),\n",
       " ('Zach Randolph', 14.5, 2017),\n",
       " ('Bojan Bogdanovic', 14.3, 2017))"
      ]
     },
     "execution_count": 19,
     "metadata": {},
     "output_type": "execute_result"
    }
   ],
   "source": [
    "# Query 4\n",
    "#Top Players in 2019 market?\n",
    "sql4 = 'select rp.PLAYER,rp.PTS,rp.year from RegSeasonPlayer rp join Salary s on rp.PLAYER = s.Player where rp.year = 2017 and s.2019season = 0 ORDER BY rp.PTS desc LIMIT 10'\n",
    "cursor.execute(sql4)\n",
    "cursor.fetchall()"
   ]
  },
  {
   "cell_type": "markdown",
   "metadata": {},
   "source": [
    "# in the following cells, we will query whether player with highest score will help his team win championship. To simplisify it, we create a temporary table in mysql "
   ]
  },
  {
   "cell_type": "code",
   "execution_count": 20,
   "metadata": {},
   "outputs": [
    {
     "data": {
      "text/plain": [
       "18"
      ]
     },
     "execution_count": 20,
     "metadata": {},
     "output_type": "execute_result"
    }
   ],
   "source": [
    "sql_temp_table1 = 'CREATE TEMPORARY TABLE IF NOT EXISTS temp_reg select rp.year, max(rp.PTS) as top_points from RegSeasonPlayer rp GROUP BY rp.year'\n",
    "sql_temp_table2 = 'CREATE TEMPORARY TABLE IF NOT EXISTS temp_post select pp.year, max(pp.PTS) as top_points from PostSeasonPlayer pp GROUP BY pp.year'\n",
    "#in the two following tables, we create the highest score in one season. And we will use that temporary table to do further queries.\n",
    "cursor.execute(sql_temp_table1)\n",
    "cursor.execute(sql_temp_table2)"
   ]
  },
  {
   "cell_type": "code",
   "execution_count": 21,
   "metadata": {},
   "outputs": [
    {
     "data": {
      "text/plain": [
       "((2005, 34.0),\n",
       " (2001, 30.8),\n",
       " (2002, 32.1),\n",
       " (2000, 33.8),\n",
       " (2004, 31.2),\n",
       " (2003, 26.6),\n",
       " (2006, 32.8),\n",
       " (2007, 30.1),\n",
       " (2009, 33.2),\n",
       " (2008, 35.3),\n",
       " (2010, 28.6),\n",
       " (2011, 30.3),\n",
       " (2012, 30.8),\n",
       " (2013, 29.6),\n",
       " (2014, 31.5),\n",
       " (2015, 28.4),\n",
       " (2016, 37.4),\n",
       " (2017, 34.0))"
      ]
     },
     "execution_count": 21,
     "metadata": {},
     "output_type": "execute_result"
    }
   ],
   "source": [
    "cursor.execute('select * from temp_post')\n",
    "cursor.fetchall()"
   ]
  },
  {
   "cell_type": "code",
   "execution_count": 22,
   "metadata": {},
   "outputs": [
    {
     "data": {
      "text/plain": [
       "()"
      ]
     },
     "execution_count": 22,
     "metadata": {},
     "output_type": "execute_result"
    }
   ],
   "source": [
    "#uery 5\n",
    "sql5 = 'select rp.year,rp.PLAYER,pt.TEAM_NAME \\\n",
    "from (RegSeasonPlayer rp join temp_reg on rp.year = temp_reg.year and rp.PTS = temp_reg.top_points) \\\n",
    "join PostSeasonTeam pt on pt.TEAM_NAME = rp.TEAM where pt.W = 16 and rp.year = pt.year'\n",
    "cursor.execute(sql5)\n",
    "cursor.fetchall()\n",
    "#surprisingly, those with highest point in regseason don't win the championship that year!"
   ]
  },
  {
   "cell_type": "code",
   "execution_count": 23,
   "metadata": {},
   "outputs": [
    {
     "data": {
      "text/plain": [
       "((2011, 'LeBron James', 'Miami Heat'),)"
      ]
     },
     "execution_count": 23,
     "metadata": {},
     "output_type": "execute_result"
    }
   ],
   "source": [
    "#Query 6\n",
    "sql6 = 'select pp.year,pp.PLAYER,pt.TEAM_NAME \\\n",
    "from (PostSeasonPlayer pp join temp_post on pp.year = temp_post.year and pp.PTS = temp_post.top_points) \\\n",
    "join PostSeasonTeam pt on pt.TEAM_NAME = pp.TEAM where pt.W = 16 and pt.year = pp.year'\n",
    "cursor.execute(sql6)\n",
    "cursor.fetchall()\n",
    "\n",
    "#only James win both title and highest points in postseason"
   ]
  },
  {
   "cell_type": "code",
   "execution_count": 24,
   "metadata": {},
   "outputs": [
    {
     "data": {
      "text/plain": [
       "((2017, 'Klay Thompson', 0.44, 'Golden State Warriors'),\n",
       " (2017, 'Kevin Durant', 0.419, 'Golden State Warriors'),\n",
       " (2017, 'Nick Young', 0.377, 'Golden State Warriors'),\n",
       " (2016, 'Pau Gasol', 0.538, 'San Antonio Spurs'),\n",
       " (2016, 'Patty Mills', 0.414, 'San Antonio Spurs'),\n",
       " (2016, 'LaMarcus Aldridge', 0.411, 'San Antonio Spurs'),\n",
       " (2015, 'Andrew Bogut', 1.0, 'Golden State Warriors'),\n",
       " (2015, 'Stephen Curry', 0.454, 'Golden State Warriors'),\n",
       " (2015, 'Klay Thompson', 0.425, 'Golden State Warriors'),\n",
       " (2014, 'Stephen Curry', 0.443, 'Golden State Warriors'),\n",
       " (2014, 'Klay Thompson', 0.439, 'Golden State Warriors'),\n",
       " (2014, 'Harrison Barnes', 0.405, 'Golden State Warriors'),\n",
       " (2013, 'Marco Belinelli', 0.43, 'San Antonio Spurs'),\n",
       " (2013, 'Matt Bonner', 0.429, 'San Antonio Spurs'),\n",
       " (2013, 'Patty Mills', 0.425, 'San Antonio Spurs'),\n",
       " (2012, 'Stephen Curry', 0.453, 'Golden State Warriors'),\n",
       " (2012, 'Jarrett Jack', 0.404, 'Golden State Warriors'),\n",
       " (2012, 'Klay Thompson', 0.401, 'Golden State Warriors'),\n",
       " (2011, 'Danny Green', 0.436, 'San Antonio Spurs'),\n",
       " (2011, 'Matt Bonner', 0.42, 'San Antonio Spurs'),\n",
       " (2011, 'Kawhi Leonard', 0.376, 'San Antonio Spurs'),\n",
       " (2010, 'Richard Jefferson', 0.44, 'San Antonio Spurs'),\n",
       " (2010, 'Gary Neal', 0.419, 'San Antonio Spurs'),\n",
       " (2010, 'George Hill', 0.377, 'San Antonio Spurs'),\n",
       " (2009, 'Jared Dudley', 0.458, 'Phoenix Suns'),\n",
       " (2009, 'Channing Frye', 0.439, 'Phoenix Suns'),\n",
       " (2009, 'Grant Hill', 0.438, 'Phoenix Suns'),\n",
       " (2008, 'Eddie House', 0.444, 'Boston Celtics'),\n",
       " (2008, 'Ray Allen', 0.409, 'Boston Celtics'),\n",
       " (2008, 'Glen Davis', 0.4, 'Boston Celtics'),\n",
       " (2007, 'Steve Nash', 0.47, 'Phoenix Suns'),\n",
       " (2007, 'Raja Bell', 0.401, 'Phoenix Suns'),\n",
       " (2007, 'Leandro Barbosa', 0.389, 'Phoenix Suns'),\n",
       " (2006, 'Steve Nash', 0.455, 'Phoenix Suns'),\n",
       " (2006, 'Leandro Barbosa', 0.434, 'Phoenix Suns'),\n",
       " (2006, 'Raja Bell', 0.413, 'Phoenix Suns'),\n",
       " (2005, 'Raja Bell', 0.442, 'Phoenix Suns'),\n",
       " (2005, 'Steve Nash', 0.439, 'Phoenix Suns'),\n",
       " (2005, 'Eddie House', 0.389, 'Phoenix Suns'),\n",
       " (2004, 'Joe Johnson', 0.478, 'Phoenix Suns'),\n",
       " (2004, 'Steve Nash', 0.431, 'Phoenix Suns'),\n",
       " (2004, 'Quentin Richardson', 0.358, 'Phoenix Suns'),\n",
       " (2003, 'Anthony Peeler', 0.482, 'Sacramento Kings'),\n",
       " (2003, 'Peja Stojakovic', 0.433, 'Sacramento Kings'),\n",
       " (2003, 'Mike Bibby', 0.392, 'Sacramento Kings'),\n",
       " (2002, 'Kurt Thomas', 0.667, 'New York Knicks'),\n",
       " (2002, 'Michael Redd', 0.438, 'Milwaukee Bucks'),\n",
       " (2002, 'Allan Houston', 0.396, 'New York Knicks'),\n",
       " (2002, 'Howard Eisley', 0.389, 'New York Knicks'),\n",
       " (2002, 'Tim Thomas', 0.366, 'Milwaukee Bucks'),\n",
       " (2002, 'Sam Cassell', 0.362, 'Milwaukee Bucks'),\n",
       " (2001, 'Tyronn Lue', 0.447, 'Washington Wizards'),\n",
       " (2001, 'Chris Whitney', 0.406, 'Washington Wizards'),\n",
       " (2001, 'Popeye Jones', 0.364, 'Washington Wizards'),\n",
       " (2000, 'Danny Ferry', 0.449, 'San Antonio Spurs'),\n",
       " (2000, 'Terry Porter', 0.424, 'San Antonio Spurs'),\n",
       " (2000, 'Antonio Daniels', 0.404, 'San Antonio Spurs'))"
      ]
     },
     "execution_count": 24,
     "metadata": {},
     "output_type": "execute_result"
    }
   ],
   "source": [
    "#Query 7\n",
    "# best shooting group in Reg for each season\n",
    "\n",
    "sql7 = 'SELECT p1.year,p1.PLAYER,p1.FG3_PCT,p1.TEAM \\\n",
    "FROM RegSeasonPlayer p1 join \\\n",
    "(SELECT t1.year,t1.TEAM_NAME FROM RegSeasonTeam t1 \\\n",
    "WHERE (t1.FG3_PCT,t1.year) in (SELECT MAX(t2.FG3_PCT),t2.year FROM RegSeasonTeam t2 GROUP BY t2.year)) t \\\n",
    "on t.year = p1.year and p1.TEAM = t.TEAM_NAME \\\n",
    "WHERE 3>\\\n",
    "(SELECT COUNT(DISTINCT p2.PLAYER) \\\n",
    "FROM RegSeasonPlayer p2 \\\n",
    "WHERE p2.FG3_PCT > p1.FG3_PCT AND p1.TEAM = p2.TEAM AND p1.year = p2.year)\\\n",
    "ORDER BY p1.year DESC,p1.FG3_PCT DESC \\\n",
    "'\n",
    "cursor.execute(sql7)\n",
    "cursor.fetchall()"
   ]
  },
  {
   "cell_type": "code",
   "execution_count": 25,
   "metadata": {},
   "outputs": [
    {
     "data": {
      "text/plain": [
       "((2017, 'Derrick Rose', 0.7, 'Minnesota Timberwolves'),\n",
       " (2017, 'Nemanja Bjelica', 0.571, 'Minnesota Timberwolves'),\n",
       " (2017, 'Jimmy Butler', 0.471, 'Minnesota Timberwolves'),\n",
       " (2016, 'JR Smith', 0.5, 'Cleveland Cavaliers'),\n",
       " (2016, 'Kevin Love', 0.45, 'Cleveland Cavaliers'),\n",
       " (2016, 'LeBron James', 0.411, 'Cleveland Cavaliers'),\n",
       " (2015, 'LaMarcus Aldridge', 1.0, 'San Antonio Spurs'),\n",
       " (2015, 'David West', 0.5, 'San Antonio Spurs'),\n",
       " (2015, 'Danny Green', 0.5, 'San Antonio Spurs'),\n",
       " (2014, 'Paul Pierce', 0.524, 'Washington Wizards'),\n",
       " (2014, 'Drew Gooden', 0.462, 'Washington Wizards'),\n",
       " (2014, 'Ramon Sessions', 0.4, 'Washington Wizards'),\n",
       " (2013, 'Danny Green', 0.475, 'San Antonio Spurs'),\n",
       " (2013, 'Marco Belinelli', 0.421, 'San Antonio Spurs'),\n",
       " (2013, 'Kawhi Leonard', 0.419, 'San Antonio Spurs'),\n",
       " (2012, 'Klay Thompson', 0.424, 'Golden State Warriors'),\n",
       " (2012, 'Stephen Curry', 0.396, 'Golden State Warriors'),\n",
       " (2012, 'Draymond Green', 0.391, 'Golden State Warriors'),\n",
       " (2011, 'Stephen Jackson', 0.605, 'San Antonio Spurs'),\n",
       " (2011, 'Boris Diaw', 0.5, 'San Antonio Spurs'),\n",
       " (2011, 'Kawhi Leonard', 0.45, 'San Antonio Spurs'),\n",
       " (2010, 'Ray Allen', 0.571, 'Boston Celtics'),\n",
       " (2010, 'Paul Pierce', 0.447, 'Boston Celtics'),\n",
       " (2010, 'Jeff Green', 0.438, 'Boston Celtics'),\n",
       " (2009, 'Jason Richardson', 0.475, 'Phoenix Suns'),\n",
       " (2009, 'Jared Dudley', 0.424, 'Phoenix Suns'),\n",
       " (2009, 'Steve Nash', 0.38, 'Phoenix Suns'),\n",
       " (2008, 'Nicolas Batum', 0.5, 'Portland Trail Blazers'),\n",
       " (2008, 'Brandon Roy', 0.471, 'Portland Trail Blazers'),\n",
       " (2008, 'Rudy Fernandez', 0.421, 'Portland Trail Blazers'),\n",
       " (2007, 'Peja Stojakovic', 0.549, 'New Orleans Hornets'),\n",
       " (2007, 'David West', 0.5, 'New Orleans Hornets'),\n",
       " (2007, 'Morris Peterson', 0.471, 'New Orleans Hornets'),\n",
       " (2006, 'Bruce Bowen', 0.446, 'San Antonio Spurs'),\n",
       " (2006, 'Michael Finley', 0.419, 'San Antonio Spurs'),\n",
       " (2006, 'Manu Ginobili', 0.384, 'San Antonio Spurs'),\n",
       " (2005, 'Michael Redd', 0.467, 'Milwaukee Bucks'),\n",
       " (2005, 'Charlie Bell', 0.455, 'Milwaukee Bucks'),\n",
       " (2005, 'Bobby Simmons', 0.417, 'Milwaukee Bucks'),\n",
       " (2004, 'Jim Jackson', 0.516, 'Phoenix Suns'),\n",
       " (2004, 'Shawn Marion', 0.419, 'Phoenix Suns'),\n",
       " (2004, 'Quentin Richardson', 0.39, 'Phoenix Suns'),\n",
       " (2003, 'Trenton Hassell', 0.5, 'Minnesota Timberwolves'),\n",
       " (2003, 'Fred Hoiberg', 0.458, 'Minnesota Timberwolves'),\n",
       " (2003, 'Sam Cassell', 0.417, 'Minnesota Timberwolves'),\n",
       " (2002, 'Steve Nash', 0.487, 'Dallas Mavericks'),\n",
       " (2002, 'Dirk Nowitzki', 0.443, 'Dallas Mavericks'),\n",
       " (2002, 'Michael Finley', 0.412, 'Dallas Mavericks'),\n",
       " (2001, 'Kevin Ollie', 0.5, 'Indiana Pacers'),\n",
       " (2001, 'Jeff Foster', 0.5, 'Indiana Pacers'),\n",
       " (2001, 'Metta World Peace', 0.462, 'Indiana Pacers'),\n",
       " (2000, 'Chris Childs', 0.417, 'Toronto Raptors'),\n",
       " (2000, 'Vince Carter', 0.41, 'Toronto Raptors'),\n",
       " (2000, 'Dell Curry', 0.378, 'Toronto Raptors'))"
      ]
     },
     "execution_count": 25,
     "metadata": {},
     "output_type": "execute_result"
    }
   ],
   "source": [
    "# Query 8\n",
    "# best shooting group in Post\n",
    "cursor.execute('SELECT p1.year,p1.PLAYER,p1.FG3_PCT,p1.TEAM \\\n",
    "FROM PostSeasonPlayer p1 join \\\n",
    "(SELECT t1.year,t1.TEAM_NAME FROM PostSeasonTeam t1 \\\n",
    "WHERE (t1.FG3_PCT,t1.year) in (SELECT MAX(t2.FG3_PCT),t2.year FROM PostSeasonTeam t2 GROUP BY t2.year)) t \\\n",
    "on t.year = p1.year and p1.TEAM = t.TEAM_NAME \\\n",
    "WHERE 3>\\\n",
    "(SELECT COUNT(DISTINCT p2.PLAYER) \\\n",
    "FROM PostSeasonPlayer p2 \\\n",
    "WHERE p2.FG3_PCT > p1.FG3_PCT AND p1.TEAM = p2.TEAM AND p1.year = p2.year)\\\n",
    "ORDER BY p1.year DESC,p1.FG3_PCT DESC \\\n",
    "')\n",
    "cursor.fetchall()"
   ]
  },
  {
   "cell_type": "code",
   "execution_count": 16,
   "metadata": {},
   "outputs": [
    {
     "data": {
      "text/plain": [
       "(('Allen Iverson', 'Philadelphia 76ers', '11,033.80', '39,442.00', '0.28'),\n",
       " ('Kevin Durant', 'Oklahoma City Thunder', '15,247.50', '58,087.40', '0.26'),\n",
       " ('Tracy McGrady', 'Orlando Magic', '8,292.70', '32,021.00', '0.26'),\n",
       " ('Jerry Stackhouse', 'Detroit Pistons', '4,010.40', '15,571.80', '0.26'),\n",
       " ('Gilbert Arenas', 'Washington Wizards', '6,485.60', '25,133.00', '0.26'),\n",
       " ('Kobe Bryant', 'Los Angeles Lakers', '28,533.80', '114,670.00', '0.25'),\n",
       " ('LeBron James', 'Miami Heat', '7,913.00', '31,691.40', '0.25'),\n",
       " ('LeBron James', 'Cleveland Cavaliers', '23,121.80', '91,118.40', '0.25'),\n",
       " ('James Harden', 'Houston Rockets', '13,017.70', '53,447.60', '0.24'),\n",
       " ('Vince Carter', 'New Jersey Nets', '9,147.50', '39,089.40', '0.23'))"
      ]
     },
     "execution_count": 16,
     "metadata": {},
     "output_type": "execute_result"
    }
   ],
   "source": [
    "#Query 9\n",
    "# who's the team hero?That is to say, the ratio of his points/team-points is very high. He contributes most to his team.\n",
    "\n",
    "sql8 = 'select p.PLAYER,t.TEAM_NAME,format(sum(p.GP*p.PTS),2) AS PLAYER_PT,format(sum((t.W+t.L)*t.PTS),2) AS TEAM_PT,format((sum(p.GP*p.PTS)/sum((t.W+t.L)*t.PTS)),2) AS CONT \\\n",
    "FROM RegSeasonPlayer p join RegSeasonTeam t on p.year = t.year and p.TEAM = t.TEAM_NAME \\\n",
    "GROUP BY p.PLAYER, t.TEAM_NAME \\\n",
    "ORDER BY CONT DESC \\\n",
    "LIMIT 10'\n",
    "cursor.execute(sql8)\n",
    "cursor.fetchall()"
   ]
  },
  {
   "cell_type": "code",
   "execution_count": 17,
   "metadata": {},
   "outputs": [
    {
     "data": {
      "text/plain": [
       "(('Darren Collison', 0.468, 76.0, '0.62'),\n",
       " ('Otto Porter Jr.', 0.441, 80.0, '0.55'),\n",
       " ('Marvin Williams', 0.413, 76.0, '0.54'),\n",
       " ('Joe Ingles', 0.44, 82.0, '0.54'),\n",
       " ('Jonas Jerebko', 0.414, 77.0, '0.54'),\n",
       " ('Luke Kennard', 0.415, 77.0, '0.54'),\n",
       " ('Buddy Hield', 0.431, 81.0, '0.53'),\n",
       " ('George Hill', 0.415, 78.0, '0.53'),\n",
       " ('Kevin Love', 0.415, 80.0, '0.52'),\n",
       " ('Dirk Nowitzki', 0.409, 79.0, '0.52'),\n",
       " ('Courtney Lee', 0.406, 78.0, '0.52'),\n",
       " ('Kyrie Irving', 0.408, 79.0, '0.52'),\n",
       " ('Doug McDermott', 0.426, 82.0, '0.52'),\n",
       " ('Kevin Durant', 0.419, 81.0, '0.52'),\n",
       " ('Garrett Temple', 0.392, 76.0, '0.52'),\n",
       " ('Bojan Bogdanovic', 0.402, 78.0, '0.52'),\n",
       " (\"E'Twaun Moore\", 0.425, 84.0, '0.51'),\n",
       " ('Tony Snell', 0.403, 79.0, '0.51'),\n",
       " ('Paul George', 0.401, 79.0, '0.51'),\n",
       " ('Kyle Lowry', 0.399, 78.0, '0.51'))"
      ]
     },
     "execution_count": 17,
     "metadata": {},
     "output_type": "execute_result"
    }
   ],
   "source": [
    "#Query 10\n",
    "#under rated 3pt shooter\n",
    "\n",
    "sql = 'SELECT rp.PLAYER , rp.FG3_PCT,r.3Pt,format((rp.FG3_PCT/r.3Pt)*100,2) as ratio \\\n",
    "FROM RegSeasonPlayer rp join Ratings r on rp.PLAYER = r.Player \\\n",
    "WHERE rp.year = 2017 and r.3Pt > 75 \\\n",
    "ORDER BY ratio DESC LIMIT 20'\n",
    "cursor.execute(sql)\n",
    "cursor.fetchall()"
   ]
  },
  {
   "cell_type": "code",
   "execution_count": 2,
   "metadata": {},
   "outputs": [
    {
     "data": {
      "text/plain": [
       "(('Jeff Green',),)"
      ]
     },
     "execution_count": 2,
     "metadata": {},
     "output_type": "execute_result"
    }
   ],
   "source": [
    "#Query 11\n",
    "#common teammates of two certain player\n",
    "\n",
    "def common_teammates(P1,P2):\n",
    "    sql = \"SELECT T1.Player \\\n",
    "    FROM (select DISTINCT P1.PLAYER \\\n",
    "    FROM RegSeasonPlayer P1 join RegSeasonPlayer P2 ON P1.year = P2.year and P1.TEAM =P2.TEAM \\\n",
    "    WHERE P2.PLAYER = \" + \"'\" + P1 + \"'\" + \"  AND P1.PLAYER != \"+ \"'\" + P1 + \"') T1\" +\" join (SELECT DISTINCT P3.PLAYER \\\n",
    "    FROM RegSeasonPlayer P3 join RegSeasonPlayer P4 ON P3.year = P4.year and P3.TEAM = P4.TEAM \\\n",
    "     WHERE P4.PLAYER = \" + \"'\" + P2 +\"'\"+\" AND P3.PLAYER != \"+ \"'\"+P2+ \"') T2 on T1.PLAYER = T2.PLAYER\"\n",
    "#     print(sql)\n",
    "    cursor.execute(sql)\n",
    "    return cursor.fetchall()\n",
    "common_teammates('Lebron James','Chris Paul')"
   ]
  },
  {
   "cell_type": "code",
   "execution_count": 29,
   "metadata": {},
   "outputs": [],
   "source": [
    "#close the cursor\n",
    "cursor.close()\n",
    "db.close()"
   ]
  },
  {
   "cell_type": "code",
   "execution_count": 22,
   "metadata": {},
   "outputs": [
    {
     "data": {
      "text/plain": [
       "((30570000, 'James Harden', 82.0, 85.0, 90.0, 77.0, 85.0, 66.0, 76.0, 72.0),)"
      ]
     },
     "execution_count": 22,
     "metadata": {},
     "output_type": "execute_result"
    }
   ],
   "source": [
    "# a final query we create for our fantasy game. We will get name from frontend, and get information from backend. And if possible, we will store\n",
    "# information into users mongodb database. \n",
    "name = 'James Harden'\n",
    "sql = \"SELECT s.2018season, r.Player,r.Speed,r.Midrange,r.Finishing,r.3Pt,r.Dribble,r.PostScoring,r.Rebound,r.Defense \\\n",
    "FROM Ratings r join Salary s on r.Player = s.Player where s.Player = \" +\"'\"+ name +\"'\"\n",
    "cursor.execute(sql)\n",
    "cursor.fetchall()"
   ]
  },
  {
   "cell_type": "code",
   "execution_count": null,
   "metadata": {},
   "outputs": [],
   "source": []
  }
 ],
 "metadata": {
  "kernelspec": {
   "display_name": "Python 3",
   "language": "python",
   "name": "python3"
  },
  "language_info": {
   "codemirror_mode": {
    "name": "ipython",
    "version": 3
   },
   "file_extension": ".py",
   "mimetype": "text/x-python",
   "name": "python",
   "nbconvert_exporter": "python",
   "pygments_lexer": "ipython3",
   "version": "3.6.5"
  }
 },
 "nbformat": 4,
 "nbformat_minor": 2
}

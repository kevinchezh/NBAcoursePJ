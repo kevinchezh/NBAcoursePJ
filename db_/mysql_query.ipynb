{
 "cells": [
  {
   "cell_type": "markdown",
   "metadata": {},
   "source": [
    "# This is the notebook we use to test our queries. For some queries, we need to get condition from frontend. So we make them as  functions. For others, we will just show the results. "
   ]
  },
  {
   "cell_type": "code",
   "execution_count": 1,
   "metadata": {},
   "outputs": [],
   "source": [
    "# pymysql is the library in python to connect mysql. \n",
    "#In this notebook, I have already provide you with the username, password, host and database\n",
    "\n",
    "import pymysql as pm\n",
    "name  = 'cywdatabase.ccszxqpi5wa6.us-east-1.rds.amazonaws.com'\n",
    "db = pm.connect(host = name,user = 'chenyunw',password = 'z1x2c3v4',db = 'cis550')\n",
    "cursor = db.cursor()"
   ]
  },
  {
   "cell_type": "markdown",
   "metadata": {},
   "source": [
    "schema for post/reg players:\n",
    "['PLAYER_ID','PLAYER','TEAM','GP','MIN','FG_PCT','FG3_PCT','FT_PCT','REB','AST','STL','BLK','TOV','EFF','PTS','year']\n",
    "where PLAYER_ID,TEAM,year are keys\n",
    "schema for post/reg \n",
    "['TEAM_ID','TEAM_NAME','W','L','W_PCT','FG_PCT','FG3_PCT','FT_PCT','REB','AST','STL','BLK','TOV','PTS','year']\n",
    "where TEAM_ID,TEAM_NAME,year are keys\n",
    "\n",
    "schema for ratings:\n",
    "Team,Player,Position,Overall ,Height,Weight,Tier,Program,Playstyle,Speed,Midrange,Finishing ,3Pt,Dribble,PostScoringt,Rebound ,Defense\n",
    "schema for salary:\n",
    "'Player','2018season','2019season','2020season','2021season'\n",
    "\n",
    "\n",
    "The 6 tables are :\n",
    "(('PostSeasonPlayer',),\n",
    " ('PostSeasonTeam',),\n",
    " ('Ratings',),\n",
    " ('RegSeasonPlayer',),\n",
    " ('RegSeasonTeam',),\n",
    " ('Salary',))"
   ]
  },
  {
   "cell_type": "markdown",
   "metadata": {},
   "source": [
    "## Basic Queries:\n",
    "in the following cells, we will write some basic queries. For example, we will present information of a certain player or team. W e will also try to add index to see whether it can be searched faster. "
   ]
  },
  {
   "cell_type": "code",
   "execution_count": 2,
   "metadata": {},
   "outputs": [],
   "source": [
    "#This is the Basic Query for player. In practise, we will add more fields such as STL and BLK and FG_PCT.  \n",
    "#But here, we just show how we do if some fields are missing.\n",
    "\n",
    "def Player(name,PTS = None,AST = None, REB = None,year = None,Reg = True):\n",
    "    pts = ''\n",
    "    ast = ''\n",
    "    reb = ''\n",
    "    y = ''\n",
    "    season = 'PostSeasonPlayer'\n",
    "    if PTS != None:\n",
    "        pts = ' and PTS = ' + str(PTS)\n",
    "    if AST != None:\n",
    "        ast = ' and AST = ' + str(AST)\n",
    "    if REB !=None:\n",
    "        reb = ' and REB = ' +str(AST)\n",
    "    if year != None:\n",
    "        y = ' and year = ' + str(year)\n",
    "    if Reg:\n",
    "        season = 'RegSeasonPlayer'\n",
    "    name = \"PLAYER = \" +\"'\" +name+\"'\"\n",
    "    \n",
    "    query = 'SELECT PLAYER,PTS,AST,REB,year,TEAM FROM ' + season + ' WHERE ' +name + pts+ast+reb+y\n",
    "    cursor.execute(query)\n",
    "    return cursor.fetchall()"
   ]
  },
  {
   "cell_type": "code",
   "execution_count": 3,
   "metadata": {},
   "outputs": [],
   "source": [
    "#Basic Query for team\n",
    "def Team(TEAM,PTS = None,AST = None, REB = None,year = None,Reg = True):\n",
    "    pts = ''\n",
    "    ast = ''\n",
    "    reb = ''\n",
    "    y = ''\n",
    "    season = 'PostSeasonTeam'\n",
    "    if PTS != None:\n",
    "        pts = ' and PTS = ' + str(PTS)\n",
    "    if AST != None:\n",
    "        ast = ' and AST = ' + str(AST)\n",
    "    if REB !=None:\n",
    "        reb = ' and REB = ' +str(AST)\n",
    "    if year != None:\n",
    "        y = ' and year = ' + str(year)\n",
    "    if Reg:\n",
    "        season = 'RegSeasonTeam'\n",
    "    name = \"TEAM_NAME = \" +\"'\" +TEAM+\"'\"\n",
    "\n",
    "    query = 'SELECT TEAM_NAME,PTS,AST,REB,year FROM ' + season + ' WHERE ' +name + pts+ast+reb+y\n",
    "#     print(query)\n",
    "    cursor.execute(query)\n",
    "    result = cursor.fetchall()\n",
    "    return result\n"
   ]
  },
  {
   "cell_type": "code",
   "execution_count": 4,
   "metadata": {},
   "outputs": [
    {
     "data": {
      "text/plain": [
       "(('Houston Rockets',\n",
       "  '46.72',\n",
       "  '34.39',\n",
       "  '0.58',\n",
       "  '0.45',\n",
       "  '100.50',\n",
       "  '21.17',\n",
       "  '43.10'),)"
      ]
     },
     "execution_count": 4,
     "metadata": {},
     "output_type": "execute_result"
    }
   ],
   "source": [
    "# total average attributes through 21st century\n",
    "team = 'Houston Rockets'\n",
    "sql = \"select TEAM_NAME,format(AVG(W),2) as avrage_win,format(AVG(L),2) as average_loss,format(SUM(W)/(SUM(W+L)),2) as average_WPCT \\\n",
    ",format(SUM((W+L)*FG_PCT)/SUM(W+L),2) AS average_FGPCT \\\n",
    ",format(SUM((W+L)*PTS)/SUM(W+L),2) as average_pts,format(SUM((W+L)*AST)/SUM(W+L),2) as average_ast \\\n",
    ",format(SUM((W+L)*REB)/SUM(W+L),2) as average_REB FROM RegSeasonTeam Where TEAM_NAME = '\"+team+\"' GROUP BY TEAM_NAME\"\n",
    "cursor.execute(sql)\n",
    "cursor.fetchall()"
   ]
  },
  {
   "cell_type": "code",
   "execution_count": 5,
   "metadata": {},
   "outputs": [
    {
     "data": {
      "text/plain": [
       "(('Kobe Bryant',\n",
       "  27.46275264053418,\n",
       "  5.083445621064584,\n",
       "  5.549951897548643,\n",
       "  1.5214629458968059,\n",
       "  0.4367661285245499,\n",
       "  0.44815880685499704,\n",
       "  0.32778248411744),)"
      ]
     },
     "execution_count": 5,
     "metadata": {},
     "output_type": "execute_result"
    }
   ],
   "source": [
    "#average fields of a player\n",
    "#in the player person page, we will show the average data. Though some information are missing , such as PCT, we will use the same fucntion to\n",
    "#calculate that\n",
    "def average_pts(name):\n",
    "    name_search = 'PLAYER = ' + \"'\"+name +\"'\"\n",
    "    sql = 'SELECT PLAYER, SUM(GP*PTS)/SUM(GP) as average_pts, \\\n",
    "    SUM(GP*AST)/SUM(GP) as average_ast,SUM(GP*REB)/SUM(GP) as average_reb, \\\n",
    "    SUM(GP*STL)/SUM(GP) as average_stl, SUM(GP*BLK)/SUM(GP) as average_blk, \\\n",
    "    SUM(GP*FG_PCT)/SUM(GP) as average_pct,SUM(GP*FG3_PCT)/SUM(GP) as average_3pct \\\n",
    "    FROM RegSeasonPlayer WHERE '+name_search + 'GROUP BY PLAYER'\n",
    "    cursor.execute(sql)\n",
    "    return cursor.fetchall()\n",
    "\n",
    "name = 'Kobe Bryant'\n",
    "average_pts(name)"
   ]
  },
  {
   "cell_type": "markdown",
   "metadata": {},
   "source": [
    "## Do we need index in this database? It seems since we will sometimes query on PTS, but let's look at how it performs with/without index"
   ]
  },
  {
   "cell_type": "code",
   "execution_count": 22,
   "metadata": {},
   "outputs": [
    {
     "data": {
      "text/plain": [
       "4.485290254000574"
      ]
     },
     "execution_count": 22,
     "metadata": {},
     "output_type": "execute_result"
    }
   ],
   "source": [
    "import timeit\n",
    "sql = 'select PLAYER,PTS FROM RegSeasonPlayer where PTS = 22 LIMIT 5'\n",
    "start_time = timeit.default_timer()\n",
    "for i in range(500):\n",
    "    cursor.execute(sql)\n",
    "elapsed = timeit.default_timer() - start_time\n",
    "elapsed\n",
    "#while running for 1000times,we use 8.522s"
   ]
  },
  {
   "cell_type": "code",
   "execution_count": 24,
   "metadata": {},
   "outputs": [
    {
     "data": {
      "text/plain": [
       "0"
      ]
     },
     "execution_count": 24,
     "metadata": {},
     "output_type": "execute_result"
    }
   ],
   "source": [
    "cursor.execute('CREATE index index_PTS on RegSeasonPlayer(PTS)')"
   ]
  },
  {
   "cell_type": "code",
   "execution_count": 21,
   "metadata": {},
   "outputs": [],
   "source": [
    "# cursor.execute('DROP index multi_index ON RegSeasonPlayer')"
   ]
  },
  {
   "cell_type": "code",
   "execution_count": 23,
   "metadata": {},
   "outputs": [
    {
     "data": {
      "text/plain": [
       "4.676604975997179"
      ]
     },
     "execution_count": 23,
     "metadata": {},
     "output_type": "execute_result"
    }
   ],
   "source": [
    "import timeit\n",
    "sql = 'select PLAYER PTS FROM RegSeasonPlayer use index(index_PTS) where PTS =22  LIMIT 5'\n",
    "start_time = timeit.default_timer()\n",
    "for i in range(500):\n",
    "    cursor.execute(sql)\n",
    "elapsed = timeit.default_timer() - start_time\n",
    "elapsed\n",
    "\n",
    "#From the result , we find after adding index, running 1000 times improves by only 0.04s,which means it improves 0.00004 for each query\n",
    "#we know index will improve our speed, but it seems it wont improve much for a small database.\n",
    "#I also add sql to drop them, I keep them now but you can delete if you want.\n",
    "\n",
    "# If we want to use index, we must assure that the data are unique. \n",
    "# If not, it will first run all index and select the required rows, and then do sequential scans. \n",
    "# So as you can see, it is sometimes even slower than we do only sequential scan."
   ]
  },
  {
   "cell_type": "markdown",
   "metadata": {},
   "source": [
    "# Advanced Queries"
   ]
  },
  {
   "cell_type": "code",
   "execution_count": 15,
   "metadata": {},
   "outputs": [
    {
     "data": {
      "text/plain": [
       "(('Rajon Rondo', 1.4878048893952927, 2017, 12.2, 8.2),\n",
       " ('Jason Kidd', 1.3571428501918783, 2000, 13.3, 9.8),\n",
       " ('John Stockton', 1.3103448124665187, 2000, 11.4, 8.7),\n",
       " ('John Stockton', 1.2195122234882314, 2001, 10.0, 8.2),\n",
       " ('Rajon Rondo', 1.1951220022788165, 2008, 9.8, 8.2),\n",
       " ('Jason Kidd', 1.1847825917945238, 2006, 10.9, 9.2),\n",
       " ('Chris Paul', 1.1734693649161716, 2010, 11.5, 9.8),\n",
       " ('Steve Nash', 1.1465517028758705, 2006, 13.3, 11.6),\n",
       " ('Jason Kidd', 1.142857240170853, 2005, 9.6, 8.4),\n",
       " ('Chris Paul', 1.076086937367127, 2016, 9.9, 9.2))"
      ]
     },
     "execution_count": 15,
     "metadata": {},
     "output_type": "execute_result"
    }
   ],
   "source": [
    "#Query 1:\n",
    "#Who is the best postseason type player? \n",
    "#Which means he has a better performance in post season than in regular season by points, assists, and Reb.\n",
    "\n",
    "def better_player(compare):\n",
    "    sql1 = None\n",
    "    if compare == 'PTS':\n",
    "        sql1 = 'select rp.player,(pp.PTS/rp.PTS) as PTS_RATIO, rp.year,pp.PTS,rp.PTS \\\n",
    "        FROM RegSeasonPlayer rp join PostSeasonPlayer pp on rp.PLAYER_ID = pp.PLAYER_ID and pp.year = rp.year \\\n",
    "        WHERE rp.PTS > 20 \\\n",
    "        ORDER BY PTS_RATIO DESC LIMIT 10'\n",
    "    elif compare == 'AST':\n",
    "        sql1 = 'select rp.player,(pp.AST/rp.AST) as AST_RATIO, rp.year,pp.AST,rp.AST \\\n",
    "        FROM RegSeasonPlayer rp join PostSeasonPlayer pp on rp.PLAYER_ID = pp.PLAYER_ID and pp.year = rp.year \\\n",
    "        WHERE rp.AST > 8 \\\n",
    "        ORDER BY AST_RATIO DESC LIMIT 10'\n",
    "    elif compare == 'REB':\n",
    "        sql1 = 'select rp.player,(pp.REB/rp.REB) as REB_RATIO, rp.year,pp.REB,rp.REB \\\n",
    "        FROM RegSeasonPlayer rp join PostSeasonPlayer pp on rp.PLAYER_ID = pp.PLAYER_ID and pp.year = rp.year \\\n",
    "        WHERE rp.REB > 8 \\\n",
    "        ORDER BY REB_RATIO DESC LIMIT 10'\n",
    "    return sql1\n",
    "\n",
    "compare = 'AST'\n",
    "sql1 = better_player(compare)\n",
    "sql1\n",
    "if sql1 != None:\n",
    "    cursor.execute(sql1)\n",
    "    result = cursor.fetchall()\n",
    "result"
   ]
  },
  {
   "cell_type": "code",
   "execution_count": null,
   "metadata": {},
   "outputs": [],
   "source": [
    "#Query2\n",
    "\n",
    "# as  PTS will appear in most where query,we set PTS as index\n",
    "# sql_index_PTS = 'create index index_PTS on RegSeasonPlayer(PTS)'\n",
    "# # as 2018season salary may appear in most where querys, we set it as index\n",
    "# sql_index_salary = 'create index index_salary on Salary(2018season)'\n",
    "# # after set index,we just comment these sql\n",
    "# cursor.execute(sql_index_PTS)\n",
    "# cursor.execute(sql_index_salary)\n",
    "cursor.execute('show keys from RegSeasonPlayer')\n",
    "cursor.fetchall()"
   ]
  },
  {
   "cell_type": "code",
   "execution_count": 17,
   "metadata": {},
   "outputs": [
    {
     "data": {
      "text/plain": [
       "(('Donovan Mitchell', 151779.51219512196),\n",
       " ('Karl-Anthony Towns', 368048.6047323381),\n",
       " ('Kemba Walker', 542986.415966838),\n",
       " ('Khris Middleton', 646766.156879517),\n",
       " ('Kyrie Irving', 823737.2669766734),\n",
       " ('Jimmy Butler', 893766.9512662131),\n",
       " ('Giannis Antetokounmpo', 898041.053627341),\n",
       " ('Anthony Davis', 905133.9023031608),\n",
       " ('Victor Oladipo', 909090.8940783266),\n",
       " ('LaMarcus Aldridge', 967403.2307777037))"
      ]
     },
     "execution_count": 17,
     "metadata": {},
     "output_type": "execute_result"
    }
   ],
   "source": [
    "# Query2\n",
    "# Among those top players, whose contract has best price–performance ratio? Whose has the worst?\n",
    "# To make it simple, we assume he must get at least 20 points, and his salary/pts is very high.\n",
    "\n",
    "sql2 = 'Select rp.PLAYER, (s.2018season/rp.PTS) as salary_Pts_Ratio from RegSeasonPlayer rp join Salary s on rp.PLAYER = s.Player where rp.PTS > 20 and rp.year = 2017 ORDER BY salary_Pts_Ratio LIMIT 10'\n",
    "cursor.execute(sql2)\n",
    "cursor.fetchall()\n",
    "#There is no surprise Mitchell has the best salary-pts ratio since he's still in rookie contract,but among those have big contract, who has the worst?\n",
    "# it can also be described as, whose contract is worth for the team."
   ]
  },
  {
   "cell_type": "code",
   "execution_count": 12,
   "metadata": {},
   "outputs": [
    {
     "data": {
      "text/plain": [
       "(('Al Horford', 2242535.725229418),\n",
       " ('Ryan Anderson', 2195865.11625505),\n",
       " ('Nicolas Batum', 2068965.4492027857),\n",
       " ('Chris Paul', 1916889.745632505),\n",
       " ('Kyle Lowry', 1913580.1567934693),\n",
       " ('DeAndre Jordan', 1908100.0),\n",
       " ('Steven Adams', 1737935.5872640153),\n",
       " ('Carmelo Anthony', 1723959.1780693536),\n",
       " ('Serge Ibaka', 1719576.6939709166),\n",
       " ('Andre Drummond', 1695617.4666666666))"
      ]
     },
     "execution_count": 12,
     "metadata": {},
     "output_type": "execute_result"
    }
   ],
   "source": [
    "# Query 3\n",
    "# under contract, whose contract is least worth? Here we query by points only, but we can also query AST and REB either.\n",
    "# The condition is that he must have a high contract. Those with vet contract will make this query a bit strange.\n",
    "sql3 = 'Select rp.PLAYER, s.2018season/rp.PTS as salary_Pts_Ratio from RegSeasonPlayer rp \\\n",
    "join Salary s on rp.PLAYER = s.Player where s.2018season>20000000 and rp.year = 2017 ORDER BY salary_Pts_Ratio desc LIMIT 10'\n",
    "cursor.execute(sql3)\n",
    "cursor.fetchall()\n",
    "\n",
    "\n",
    "# surprise? But remember we only take points into consideration. And Paul contribute assist most!\n",
    "# And you will find why Rockets wants to trade Anderson -- low contribution! But their addition Anthony is not much better... "
   ]
  },
  {
   "cell_type": "markdown",
   "metadata": {},
   "source": [
    "## Whether relation algebra works in this database? In the following queries, the first one is just cross product and in the second one ,we select first. But the speed is almost the same. "
   ]
  },
  {
   "cell_type": "code",
   "execution_count": 7,
   "metadata": {},
   "outputs": [
    {
     "data": {
      "text/plain": [
       "10.526720840000053"
      ]
     },
     "execution_count": 7,
     "metadata": {},
     "output_type": "execute_result"
    }
   ],
   "source": [
    "import timeit\n",
    "start_time = timeit.default_timer()\n",
    "sql3 = 'Select rp.PLAYER, (s.2018season/rp.PTS) as salary_Pts_Ratio from RegSeasonPlayer rp,Salary s where rp.PLAYER = s.Player and s.2018season>20000000 and rp.year = 2017 ORDER BY salary_Pts_Ratio desc LIMIT 10'\n",
    "    \n",
    "for i in range(1000):\n",
    "#     sql3 = 'Select rp.PLAYER, (s.2018season/rp.PTS) as salary_Pts_Ratio from RegSeasonPlayer rp,Salary s where rp.PLAYER = s.Player and s.2018season>20000000 and rp.year = 2017 ORDER BY salary_Pts_Ratio desc LIMIT 10'\n",
    "    cursor.execute(sql3)\n",
    "\n",
    "end_time = timeit.default_timer()\n",
    "elapsed = timeit.default_timer() - start_time\n",
    "elapsed\n",
    "\n"
   ]
  },
  {
   "cell_type": "code",
   "execution_count": 8,
   "metadata": {},
   "outputs": [
    {
     "data": {
      "text/plain": [
       "10.331628947000354"
      ]
     },
     "execution_count": 8,
     "metadata": {},
     "output_type": "execute_result"
    }
   ],
   "source": [
    "import timeit\n",
    "start_time = timeit.default_timer()\n",
    "sql3 = 'Select rp.PLAYER, (s.2018season/rp.PTS) as salary_Pts_Ratio \\\n",
    "    from (select PLAYER,PTS FROM RegSeasonPlayer \\\n",
    "    where year = 2017) rp join \\\n",
    "    (select 2018season,Player \\\n",
    "    from Salary where 2018season>20000000) s on rp.PLAYER = s.Player ORDER BY salary_Pts_Ratio desc LIMIT 10'\n",
    "for i in range(1000):\n",
    "#     sql3 = 'Select rp.PLAYER, (s.2018season/rp.PTS) as salary_Pts_Ratio \\\n",
    "#     from (select PLAYER,PTS FROM RegSeasonPlayer \\\n",
    "#     where year = 2017) rp join \\\n",
    "#     (select 2018season,Player \\\n",
    "#     from Salary where 2018season>20000000) s on rp.PLAYER = s.Player ORDER BY salary_Pts_Ratio desc LIMIT 10'\n",
    "    cursor.execute(sql3)\n",
    "\n",
    "end_time = timeit.default_timer()\n",
    "elapsed = timeit.default_timer() - start_time\n",
    "elapsed"
   ]
  },
  {
   "cell_type": "code",
   "execution_count": null,
   "metadata": {},
   "outputs": [],
   "source": [
    "start_time = timeit.default_timer()\n",
    "sql3 = 'Select rp.PLAYER, (s.2018season/rp.PTS) as salary_Pts_Ratio \\\n",
    "    from (select PLAYER,PTS FROM RegSeasonPlayer use index(index_PTS) \\\n",
    "    where year = 2017) rp join \\\n",
    "    (select 2018season,Player \\\n",
    "    from Salary use index(salary) where 2018season>20000000) s on rp.PLAYER = s.Player ORDER BY salary_Pts_Ratio desc LIMIT 10'\n",
    "\n",
    "for i in range(1000):\n",
    "    cursor.execute(sql3)\n",
    "\n",
    "end_time = timeit.default_timer()\n",
    "elapsed = timeit.default_timer() - start_time\n",
    "elapsed"
   ]
  },
  {
   "cell_type": "markdown",
   "metadata": {},
   "source": []
  },
  {
   "cell_type": "code",
   "execution_count": 19,
   "metadata": {},
   "outputs": [
    {
     "data": {
      "text/plain": [
       "(('Kemba Walker', 22.1, 2017),\n",
       " ('Klay Thompson', 20.0, 2017),\n",
       " ('Tobias Harris', 18.6, 2017),\n",
       " ('Eric Bledsoe', 17.7, 2017),\n",
       " ('JJ Redick', 17.1, 2017),\n",
       " ('Carmelo Anthony', 16.2, 2017),\n",
       " ('Austin Rivers', 15.1, 2017),\n",
       " ('Rodney Hood', 14.7, 2017),\n",
       " ('Zach Randolph', 14.5, 2017),\n",
       " ('Bojan Bogdanovic', 14.3, 2017))"
      ]
     },
     "execution_count": 19,
     "metadata": {},
     "output_type": "execute_result"
    }
   ],
   "source": [
    "# Query 4\n",
    "#Top Players in 2019 market?\n",
    "sql4 = 'select rp.PLAYER,rp.PTS,rp.year from RegSeasonPlayer rp join Salary s on rp.PLAYER = s.Player where rp.year = 2017 and s.2019season = 0 ORDER BY rp.PTS desc LIMIT 10'\n",
    "cursor.execute(sql4)\n",
    "cursor.fetchall()"
   ]
  },
  {
   "cell_type": "markdown",
   "metadata": {},
   "source": [
    "# in the following cells, we will query whether player with highest score will help his team win championship. To simplisify it, we create a temporary table in mysql "
   ]
  },
  {
   "cell_type": "code",
   "execution_count": 20,
   "metadata": {},
   "outputs": [
    {
     "data": {
      "text/plain": [
       "18"
      ]
     },
     "execution_count": 20,
     "metadata": {},
     "output_type": "execute_result"
    }
   ],
   "source": [
    "sql_temp_table1 = 'CREATE TEMPORARY TABLE IF NOT EXISTS temp_reg select rp.year, max(rp.PTS) as top_points from RegSeasonPlayer rp GROUP BY rp.year'\n",
    "sql_temp_table2 = 'CREATE TEMPORARY TABLE IF NOT EXISTS temp_post select pp.year, max(pp.PTS) as top_points from PostSeasonPlayer pp GROUP BY pp.year'\n",
    "#in the two following tables, we create the highest score in one season. And we will use that temporary table to do further queries.\n",
    "cursor.execute(sql_temp_table1)\n",
    "cursor.execute(sql_temp_table2)"
   ]
  },
  {
   "cell_type": "code",
   "execution_count": 21,
   "metadata": {},
   "outputs": [
    {
     "data": {
      "text/plain": [
       "((2005, 34.0),\n",
       " (2001, 30.8),\n",
       " (2002, 32.1),\n",
       " (2000, 33.8),\n",
       " (2004, 31.2),\n",
       " (2003, 26.6),\n",
       " (2006, 32.8),\n",
       " (2007, 30.1),\n",
       " (2009, 33.2),\n",
       " (2008, 35.3),\n",
       " (2010, 28.6),\n",
       " (2011, 30.3),\n",
       " (2012, 30.8),\n",
       " (2013, 29.6),\n",
       " (2014, 31.5),\n",
       " (2015, 28.4),\n",
       " (2016, 37.4),\n",
       " (2017, 34.0))"
      ]
     },
     "execution_count": 21,
     "metadata": {},
     "output_type": "execute_result"
    }
   ],
   "source": [
    "cursor.execute('select * from temp_post')\n",
    "cursor.fetchall()"
   ]
  },
  {
   "cell_type": "code",
   "execution_count": 22,
   "metadata": {},
   "outputs": [
    {
     "data": {
      "text/plain": [
       "()"
      ]
     },
     "execution_count": 22,
     "metadata": {},
     "output_type": "execute_result"
    }
   ],
   "source": [
    "#uery 5\n",
    "sql5 = 'select rp.year,rp.PLAYER,pt.TEAM_NAME \\\n",
    "from (RegSeasonPlayer rp join temp_reg on rp.year = temp_reg.year and rp.PTS = temp_reg.top_points) \\\n",
    "join PostSeasonTeam pt on pt.TEAM_NAME = rp.TEAM where pt.W = 16 and rp.year = pt.year'\n",
    "cursor.execute(sql5)\n",
    "cursor.fetchall()\n",
    "#surprisingly, those with highest point in regseason don't win the championship that year!"
   ]
  },
  {
   "cell_type": "code",
   "execution_count": 23,
   "metadata": {},
   "outputs": [
    {
     "data": {
      "text/plain": [
       "((2011, 'LeBron James', 'Miami Heat'),)"
      ]
     },
     "execution_count": 23,
     "metadata": {},
     "output_type": "execute_result"
    }
   ],
   "source": [
    "#Query 6\n",
    "sql6 = 'select pp.year,pp.PLAYER,pt.TEAM_NAME \\\n",
    "from (PostSeasonPlayer pp join temp_post on pp.year = temp_post.year and pp.PTS = temp_post.top_points) \\\n",
    "join PostSeasonTeam pt on pt.TEAM_NAME = pp.TEAM where pt.W = 16 and pt.year = pp.year'\n",
    "cursor.execute(sql6)\n",
    "cursor.fetchall()\n",
    "\n",
    "#only James win both title and highest points in postseason"
   ]
  },
  {
   "cell_type": "code",
   "execution_count": 24,
   "metadata": {},
   "outputs": [
    {
     "data": {
      "text/plain": [
       "((2017, 'Klay Thompson', 0.44, 'Golden State Warriors'),\n",
       " (2017, 'Kevin Durant', 0.419, 'Golden State Warriors'),\n",
       " (2017, 'Nick Young', 0.377, 'Golden State Warriors'),\n",
       " (2016, 'Pau Gasol', 0.538, 'San Antonio Spurs'),\n",
       " (2016, 'Patty Mills', 0.414, 'San Antonio Spurs'),\n",
       " (2016, 'LaMarcus Aldridge', 0.411, 'San Antonio Spurs'),\n",
       " (2015, 'Andrew Bogut', 1.0, 'Golden State Warriors'),\n",
       " (2015, 'Stephen Curry', 0.454, 'Golden State Warriors'),\n",
       " (2015, 'Klay Thompson', 0.425, 'Golden State Warriors'),\n",
       " (2014, 'Stephen Curry', 0.443, 'Golden State Warriors'),\n",
       " (2014, 'Klay Thompson', 0.439, 'Golden State Warriors'),\n",
       " (2014, 'Harrison Barnes', 0.405, 'Golden State Warriors'),\n",
       " (2013, 'Marco Belinelli', 0.43, 'San Antonio Spurs'),\n",
       " (2013, 'Matt Bonner', 0.429, 'San Antonio Spurs'),\n",
       " (2013, 'Patty Mills', 0.425, 'San Antonio Spurs'),\n",
       " (2012, 'Stephen Curry', 0.453, 'Golden State Warriors'),\n",
       " (2012, 'Jarrett Jack', 0.404, 'Golden State Warriors'),\n",
       " (2012, 'Klay Thompson', 0.401, 'Golden State Warriors'),\n",
       " (2011, 'Danny Green', 0.436, 'San Antonio Spurs'),\n",
       " (2011, 'Matt Bonner', 0.42, 'San Antonio Spurs'),\n",
       " (2011, 'Kawhi Leonard', 0.376, 'San Antonio Spurs'),\n",
       " (2010, 'Richard Jefferson', 0.44, 'San Antonio Spurs'),\n",
       " (2010, 'Gary Neal', 0.419, 'San Antonio Spurs'),\n",
       " (2010, 'George Hill', 0.377, 'San Antonio Spurs'),\n",
       " (2009, 'Jared Dudley', 0.458, 'Phoenix Suns'),\n",
       " (2009, 'Channing Frye', 0.439, 'Phoenix Suns'),\n",
       " (2009, 'Grant Hill', 0.438, 'Phoenix Suns'),\n",
       " (2008, 'Eddie House', 0.444, 'Boston Celtics'),\n",
       " (2008, 'Ray Allen', 0.409, 'Boston Celtics'),\n",
       " (2008, 'Glen Davis', 0.4, 'Boston Celtics'),\n",
       " (2007, 'Steve Nash', 0.47, 'Phoenix Suns'),\n",
       " (2007, 'Raja Bell', 0.401, 'Phoenix Suns'),\n",
       " (2007, 'Leandro Barbosa', 0.389, 'Phoenix Suns'),\n",
       " (2006, 'Steve Nash', 0.455, 'Phoenix Suns'),\n",
       " (2006, 'Leandro Barbosa', 0.434, 'Phoenix Suns'),\n",
       " (2006, 'Raja Bell', 0.413, 'Phoenix Suns'),\n",
       " (2005, 'Raja Bell', 0.442, 'Phoenix Suns'),\n",
       " (2005, 'Steve Nash', 0.439, 'Phoenix Suns'),\n",
       " (2005, 'Eddie House', 0.389, 'Phoenix Suns'),\n",
       " (2004, 'Joe Johnson', 0.478, 'Phoenix Suns'),\n",
       " (2004, 'Steve Nash', 0.431, 'Phoenix Suns'),\n",
       " (2004, 'Quentin Richardson', 0.358, 'Phoenix Suns'),\n",
       " (2003, 'Anthony Peeler', 0.482, 'Sacramento Kings'),\n",
       " (2003, 'Peja Stojakovic', 0.433, 'Sacramento Kings'),\n",
       " (2003, 'Mike Bibby', 0.392, 'Sacramento Kings'),\n",
       " (2002, 'Kurt Thomas', 0.667, 'New York Knicks'),\n",
       " (2002, 'Michael Redd', 0.438, 'Milwaukee Bucks'),\n",
       " (2002, 'Allan Houston', 0.396, 'New York Knicks'),\n",
       " (2002, 'Howard Eisley', 0.389, 'New York Knicks'),\n",
       " (2002, 'Tim Thomas', 0.366, 'Milwaukee Bucks'),\n",
       " (2002, 'Sam Cassell', 0.362, 'Milwaukee Bucks'),\n",
       " (2001, 'Tyronn Lue', 0.447, 'Washington Wizards'),\n",
       " (2001, 'Chris Whitney', 0.406, 'Washington Wizards'),\n",
       " (2001, 'Popeye Jones', 0.364, 'Washington Wizards'),\n",
       " (2000, 'Danny Ferry', 0.449, 'San Antonio Spurs'),\n",
       " (2000, 'Terry Porter', 0.424, 'San Antonio Spurs'),\n",
       " (2000, 'Antonio Daniels', 0.404, 'San Antonio Spurs'))"
      ]
     },
     "execution_count": 24,
     "metadata": {},
     "output_type": "execute_result"
    }
   ],
   "source": [
    "#Query 7\n",
    "# best shooting group in Reg for each season\n",
    "\n",
    "sql7 = 'SELECT p1.year,p1.PLAYER,p1.FG3_PCT,p1.TEAM \\\n",
    "FROM RegSeasonPlayer p1 join \\\n",
    "(SELECT t1.year,t1.TEAM_NAME FROM RegSeasonTeam t1 \\\n",
    "WHERE (t1.FG3_PCT,t1.year) in (SELECT MAX(t2.FG3_PCT),t2.year FROM RegSeasonTeam t2 GROUP BY t2.year)) t \\\n",
    "on t.year = p1.year and p1.TEAM = t.TEAM_NAME \\\n",
    "WHERE 3>\\\n",
    "(SELECT COUNT(DISTINCT p2.PLAYER) \\\n",
    "FROM RegSeasonPlayer p2 \\\n",
    "WHERE p2.FG3_PCT > p1.FG3_PCT AND p1.TEAM = p2.TEAM AND p1.year = p2.year)\\\n",
    "ORDER BY p1.year DESC,p1.FG3_PCT DESC \\\n",
    "'\n",
    "cursor.execute(sql7)\n",
    "cursor.fetchall()"
   ]
  },
  {
   "cell_type": "code",
   "execution_count": 25,
   "metadata": {},
   "outputs": [
    {
     "data": {
      "text/plain": [
       "((2017, 'Derrick Rose', 0.7, 'Minnesota Timberwolves'),\n",
       " (2017, 'Nemanja Bjelica', 0.571, 'Minnesota Timberwolves'),\n",
       " (2017, 'Jimmy Butler', 0.471, 'Minnesota Timberwolves'),\n",
       " (2016, 'JR Smith', 0.5, 'Cleveland Cavaliers'),\n",
       " (2016, 'Kevin Love', 0.45, 'Cleveland Cavaliers'),\n",
       " (2016, 'LeBron James', 0.411, 'Cleveland Cavaliers'),\n",
       " (2015, 'LaMarcus Aldridge', 1.0, 'San Antonio Spurs'),\n",
       " (2015, 'David West', 0.5, 'San Antonio Spurs'),\n",
       " (2015, 'Danny Green', 0.5, 'San Antonio Spurs'),\n",
       " (2014, 'Paul Pierce', 0.524, 'Washington Wizards'),\n",
       " (2014, 'Drew Gooden', 0.462, 'Washington Wizards'),\n",
       " (2014, 'Ramon Sessions', 0.4, 'Washington Wizards'),\n",
       " (2013, 'Danny Green', 0.475, 'San Antonio Spurs'),\n",
       " (2013, 'Marco Belinelli', 0.421, 'San Antonio Spurs'),\n",
       " (2013, 'Kawhi Leonard', 0.419, 'San Antonio Spurs'),\n",
       " (2012, 'Klay Thompson', 0.424, 'Golden State Warriors'),\n",
       " (2012, 'Stephen Curry', 0.396, 'Golden State Warriors'),\n",
       " (2012, 'Draymond Green', 0.391, 'Golden State Warriors'),\n",
       " (2011, 'Stephen Jackson', 0.605, 'San Antonio Spurs'),\n",
       " (2011, 'Boris Diaw', 0.5, 'San Antonio Spurs'),\n",
       " (2011, 'Kawhi Leonard', 0.45, 'San Antonio Spurs'),\n",
       " (2010, 'Ray Allen', 0.571, 'Boston Celtics'),\n",
       " (2010, 'Paul Pierce', 0.447, 'Boston Celtics'),\n",
       " (2010, 'Jeff Green', 0.438, 'Boston Celtics'),\n",
       " (2009, 'Jason Richardson', 0.475, 'Phoenix Suns'),\n",
       " (2009, 'Jared Dudley', 0.424, 'Phoenix Suns'),\n",
       " (2009, 'Steve Nash', 0.38, 'Phoenix Suns'),\n",
       " (2008, 'Nicolas Batum', 0.5, 'Portland Trail Blazers'),\n",
       " (2008, 'Brandon Roy', 0.471, 'Portland Trail Blazers'),\n",
       " (2008, 'Rudy Fernandez', 0.421, 'Portland Trail Blazers'),\n",
       " (2007, 'Peja Stojakovic', 0.549, 'New Orleans Hornets'),\n",
       " (2007, 'David West', 0.5, 'New Orleans Hornets'),\n",
       " (2007, 'Morris Peterson', 0.471, 'New Orleans Hornets'),\n",
       " (2006, 'Bruce Bowen', 0.446, 'San Antonio Spurs'),\n",
       " (2006, 'Michael Finley', 0.419, 'San Antonio Spurs'),\n",
       " (2006, 'Manu Ginobili', 0.384, 'San Antonio Spurs'),\n",
       " (2005, 'Michael Redd', 0.467, 'Milwaukee Bucks'),\n",
       " (2005, 'Charlie Bell', 0.455, 'Milwaukee Bucks'),\n",
       " (2005, 'Bobby Simmons', 0.417, 'Milwaukee Bucks'),\n",
       " (2004, 'Jim Jackson', 0.516, 'Phoenix Suns'),\n",
       " (2004, 'Shawn Marion', 0.419, 'Phoenix Suns'),\n",
       " (2004, 'Quentin Richardson', 0.39, 'Phoenix Suns'),\n",
       " (2003, 'Trenton Hassell', 0.5, 'Minnesota Timberwolves'),\n",
       " (2003, 'Fred Hoiberg', 0.458, 'Minnesota Timberwolves'),\n",
       " (2003, 'Sam Cassell', 0.417, 'Minnesota Timberwolves'),\n",
       " (2002, 'Steve Nash', 0.487, 'Dallas Mavericks'),\n",
       " (2002, 'Dirk Nowitzki', 0.443, 'Dallas Mavericks'),\n",
       " (2002, 'Michael Finley', 0.412, 'Dallas Mavericks'),\n",
       " (2001, 'Kevin Ollie', 0.5, 'Indiana Pacers'),\n",
       " (2001, 'Jeff Foster', 0.5, 'Indiana Pacers'),\n",
       " (2001, 'Metta World Peace', 0.462, 'Indiana Pacers'),\n",
       " (2000, 'Chris Childs', 0.417, 'Toronto Raptors'),\n",
       " (2000, 'Vince Carter', 0.41, 'Toronto Raptors'),\n",
       " (2000, 'Dell Curry', 0.378, 'Toronto Raptors'))"
      ]
     },
     "execution_count": 25,
     "metadata": {},
     "output_type": "execute_result"
    }
   ],
   "source": [
    "# Query 8\n",
    "# best shooting group in Post\n",
    "cursor.execute('SELECT p1.year,p1.PLAYER,p1.FG3_PCT,p1.TEAM \\\n",
    "FROM PostSeasonPlayer p1 join \\\n",
    "(SELECT t1.year,t1.TEAM_NAME FROM PostSeasonTeam t1 \\\n",
    "WHERE (t1.FG3_PCT,t1.year) in (SELECT MAX(t2.FG3_PCT),t2.year FROM PostSeasonTeam t2 GROUP BY t2.year)) t \\\n",
    "on t.year = p1.year and p1.TEAM = t.TEAM_NAME \\\n",
    "WHERE 3>\\\n",
    "(SELECT COUNT(DISTINCT p2.PLAYER) \\\n",
    "FROM PostSeasonPlayer p2 \\\n",
    "WHERE p2.FG3_PCT > p1.FG3_PCT AND p1.TEAM = p2.TEAM AND p1.year = p2.year)\\\n",
    "ORDER BY p1.year DESC,p1.FG3_PCT DESC \\\n",
    "')\n",
    "cursor.fetchall()"
   ]
  },
  {
   "cell_type": "code",
   "execution_count": 16,
   "metadata": {},
   "outputs": [
    {
     "data": {
      "text/plain": [
       "(('Allen Iverson', 'Philadelphia 76ers', '11,033.80', '39,442.00', '0.28'),\n",
       " ('Kevin Durant', 'Oklahoma City Thunder', '15,247.50', '58,087.40', '0.26'),\n",
       " ('Tracy McGrady', 'Orlando Magic', '8,292.70', '32,021.00', '0.26'),\n",
       " ('Jerry Stackhouse', 'Detroit Pistons', '4,010.40', '15,571.80', '0.26'),\n",
       " ('Gilbert Arenas', 'Washington Wizards', '6,485.60', '25,133.00', '0.26'),\n",
       " ('Kobe Bryant', 'Los Angeles Lakers', '28,533.80', '114,670.00', '0.25'),\n",
       " ('LeBron James', 'Miami Heat', '7,913.00', '31,691.40', '0.25'),\n",
       " ('LeBron James', 'Cleveland Cavaliers', '23,121.80', '91,118.40', '0.25'),\n",
       " ('James Harden', 'Houston Rockets', '13,017.70', '53,447.60', '0.24'),\n",
       " ('Vince Carter', 'New Jersey Nets', '9,147.50', '39,089.40', '0.23'))"
      ]
     },
     "execution_count": 16,
     "metadata": {},
     "output_type": "execute_result"
    }
   ],
   "source": [
    "#Query 9\n",
    "# who's the team hero?That is to say, the ratio of his points/team-points is very high. He contributes most to his team.\n",
    "\n",
    "sql8 = 'select p.PLAYER,t.TEAM_NAME,format(sum(p.GP*p.PTS),2) AS PLAYER_PT,format(sum((t.W+t.L)*t.PTS),2) AS TEAM_PT,format((sum(p.GP*p.PTS)/sum((t.W+t.L)*t.PTS)),2) AS CONT \\\n",
    "FROM RegSeasonPlayer p join RegSeasonTeam t on p.year = t.year and p.TEAM = t.TEAM_NAME \\\n",
    "GROUP BY p.PLAYER, t.TEAM_NAME \\\n",
    "ORDER BY CONT DESC \\\n",
    "LIMIT 10'\n",
    "cursor.execute(sql8)\n",
    "cursor.fetchall()"
   ]
  },
  {
   "cell_type": "code",
   "execution_count": 17,
   "metadata": {},
   "outputs": [
    {
     "data": {
      "text/plain": [
       "(('Darren Collison', 0.468, 76.0, '0.62'),\n",
       " ('Otto Porter Jr.', 0.441, 80.0, '0.55'),\n",
       " ('Marvin Williams', 0.413, 76.0, '0.54'),\n",
       " ('Joe Ingles', 0.44, 82.0, '0.54'),\n",
       " ('Jonas Jerebko', 0.414, 77.0, '0.54'),\n",
       " ('Luke Kennard', 0.415, 77.0, '0.54'),\n",
       " ('Buddy Hield', 0.431, 81.0, '0.53'),\n",
       " ('George Hill', 0.415, 78.0, '0.53'),\n",
       " ('Kevin Love', 0.415, 80.0, '0.52'),\n",
       " ('Dirk Nowitzki', 0.409, 79.0, '0.52'),\n",
       " ('Courtney Lee', 0.406, 78.0, '0.52'),\n",
       " ('Kyrie Irving', 0.408, 79.0, '0.52'),\n",
       " ('Doug McDermott', 0.426, 82.0, '0.52'),\n",
       " ('Kevin Durant', 0.419, 81.0, '0.52'),\n",
       " ('Garrett Temple', 0.392, 76.0, '0.52'),\n",
       " ('Bojan Bogdanovic', 0.402, 78.0, '0.52'),\n",
       " (\"E'Twaun Moore\", 0.425, 84.0, '0.51'),\n",
       " ('Tony Snell', 0.403, 79.0, '0.51'),\n",
       " ('Paul George', 0.401, 79.0, '0.51'),\n",
       " ('Kyle Lowry', 0.399, 78.0, '0.51'))"
      ]
     },
     "execution_count": 17,
     "metadata": {},
     "output_type": "execute_result"
    }
   ],
   "source": [
    "#Query 10\n",
    "#under rated 3pt shooter\n",
    "\n",
    "sql = 'SELECT rp.PLAYER , rp.FG3_PCT,r.3Pt,format((rp.FG3_PCT/r.3Pt)*100,2) as ratio \\\n",
    "FROM RegSeasonPlayer rp join Ratings r on rp.PLAYER = r.Player \\\n",
    "WHERE rp.year = 2017 and r.3Pt > 75 \\\n",
    "ORDER BY ratio DESC LIMIT 20'\n",
    "cursor.execute(sql)\n",
    "cursor.fetchall()"
   ]
  },
  {
   "cell_type": "code",
   "execution_count": 29,
   "metadata": {},
   "outputs": [
    {
     "data": {
      "text/plain": [
       "(('Jeff Green',),)"
      ]
     },
     "execution_count": 29,
     "metadata": {},
     "output_type": "execute_result"
    }
   ],
   "source": [
    "#Query 11\n",
    "#common teammates of two certain player\n",
    "\n",
    "def common_teammates(P1,P2):\n",
    "    sql = \"SELECT T1.Player  \\\n",
    "    FROM (select DISTINCT P1.PLAYER \\\n",
    "    FROM RegSeasonPlayer P1  join RegSeasonPlayer P2  ON P1.year = P2.year and P1.TEAM =P2.TEAM \\\n",
    "    WHERE P2.PLAYER = \" + \"'\" + P1 + \"'\" + \"  AND P1.PLAYER != \"+ \"'\" + P1 + \"') T1\" +\" join (SELECT DISTINCT P3.PLAYER \\\n",
    "    FROM RegSeasonPlayer P3  join RegSeasonPlayer P4  ON P3.year = P4.year and P3.TEAM = P4.TEAM  \\\n",
    "     WHERE P4.PLAYER = \" + \"'\" + P2 +\"'\"+\" AND P3.PLAYER != \"+ \"'\"+P2+ \"') T2 on T1.PLAYER = T2.PLAYER\"\n",
    "#     print(sql)\n",
    "    cursor.execute(sql)\n",
    "    return cursor.fetchall()\n",
    "common_teammates('Lebron James','Chris Paul')"
   ]
  },
  {
   "cell_type": "code",
   "execution_count": 22,
   "metadata": {},
   "outputs": [
    {
     "data": {
      "text/plain": [
       "((30570000, 'James Harden', 82.0, 85.0, 90.0, 77.0, 85.0, 66.0, 76.0, 72.0),)"
      ]
     },
     "execution_count": 22,
     "metadata": {},
     "output_type": "execute_result"
    }
   ],
   "source": [
    "# a final query we create for our fantasy game. We will get name from frontend, and get information from backend. And if possible, we will store\n",
    "# information into users mongodb database. \n",
    "name = 'James Harden'\n",
    "sql = \"SELECT s.2018season, r.Player,r.Speed,r.Midrange,r.Finishing,r.3Pt,r.Dribble,r.PostScoring,r.Rebound,r.Defense \\\n",
    "FROM Ratings r join Salary s on r.Player = s.Player where s.Player = \" +\"'\"+ name +\"'\" \n",
    "cursor.execute(sql)\n",
    "cursor.fetchall()"
   ]
  },
  {
   "cell_type": "code",
   "execution_count": 40,
   "metadata": {},
   "outputs": [
    {
     "data": {
      "text/plain": [
       "6.695334531003027"
      ]
     },
     "execution_count": 40,
     "metadata": {},
     "output_type": "execute_result"
    }
   ],
   "source": [
    "sql = 'select T.year,P.PTS from RegSeasonPlayer P use index(index_PTS) join RegSeasonTeam T use index(index_year) on P.TEAM = T.TEAM_NAME  where P.PTS > 22 and T.year =  2017'\n",
    "start = timeit.default_timer()\n",
    "for i in range(500):\n",
    "    cursor.execute(sql)\n",
    "timeit.default_timer() - start"
   ]
  },
  {
   "cell_type": "code",
   "execution_count": 48,
   "metadata": {},
   "outputs": [
    {
     "data": {
      "text/plain": [
       "7.009170594996249"
      ]
     },
     "execution_count": 48,
     "metadata": {},
     "output_type": "execute_result"
    }
   ],
   "source": [
    "sql = 'select T.year,P.PTS from RegSeasonPlayer P join RegSeasonTeam T on P.TEAM = T.TEAM_NAME where P.PTS > 22 and T.year =  2017'\n",
    "start = timeit.default_timer()\n",
    "for i in range(500):\n",
    "    cursor.execute(sql)\n",
    "timeit.default_timer() - start"
   ]
  },
  {
   "cell_type": "code",
   "execution_count": 42,
   "metadata": {},
   "outputs": [
    {
     "data": {
      "text/plain": [
       "51.80034005900234"
      ]
     },
     "execution_count": 42,
     "metadata": {},
     "output_type": "execute_result"
    }
   ],
   "source": [
    "sql = 'select T.year,P.PTS from RegSeasonPlayer P use index(index_PTS) join RegSeasonTeam T use index(index_year)   where P.PTS > 22 and T.year =  2017'\n",
    "start = timeit.default_timer()\n",
    "for i in range(500):\n",
    "    cursor.execute(sql)\n",
    "timeit.default_timer() - start"
   ]
  },
  {
   "cell_type": "code",
   "execution_count": 49,
   "metadata": {},
   "outputs": [
    {
     "data": {
      "text/plain": [
       "6.695896056997299"
      ]
     },
     "execution_count": 49,
     "metadata": {},
     "output_type": "execute_result"
    }
   ],
   "source": [
    "sql = 'select T.year,P.PTS from (select PTS,TEAM from RegSeasonPlayer use index(index_PTS) where PTS > 22) P \\\n",
    "join (select year,TEAM_NAME from RegSeasonTeam use index(index_year) where year = 2017) T ON TEAM = TEAM_NAME'\n",
    "start = timeit.default_timer()\n",
    "for i in range(500):\n",
    "    cursor.execute(sql)\n",
    "timeit.default_timer() - start"
   ]
  },
  {
   "cell_type": "code",
   "execution_count": 21,
   "metadata": {},
   "outputs": [
    {
     "data": {
      "text/plain": [
       "(('Houston Rockets',\n",
       "  'James Harden',\n",
       "  6,\n",
       "  '13,018',\n",
       "  '3,621',\n",
       "  '2,732',\n",
       "  '0.44',\n",
       "  '0.089',\n",
       "  '0.117',\n",
       "  '0.043',\n",
       "  -0.010000000000000009,\n",
       "  146735.60052490234),\n",
       " ('Houston Rockets',\n",
       "  'Trevor Ariza',\n",
       "  5,\n",
       "  '4,871',\n",
       "  '948',\n",
       "  '1,978',\n",
       "  '0.41',\n",
       "  '0.033',\n",
       "  '0.031',\n",
       "  '0.031',\n",
       "  -0.040000000000000036,\n",
       "  146735.60052490234),\n",
       " ('Houston Rockets',\n",
       "  'Chuck Hayes',\n",
       "  5,\n",
       "  '1,712',\n",
       "  '523',\n",
       "  '2,265',\n",
       "  '0.49',\n",
       "  '0.012',\n",
       "  '0.017',\n",
       "  '0.036',\n",
       "  0.03999999999999998,\n",
       "  146735.60052490234),\n",
       " ('Houston Rockets',\n",
       "  'Luis Scola',\n",
       "  5,\n",
       "  '5,592',\n",
       "  '725',\n",
       "  '2,987',\n",
       "  '0.51',\n",
       "  '0.038',\n",
       "  '0.023',\n",
       "  '0.047',\n",
       "  0.06,\n",
       "  146735.60052490234),\n",
       " ('Houston Rockets',\n",
       "  'Yao Ming',\n",
       "  4,\n",
       "  '5,523',\n",
       "  '465',\n",
       "  '2,845',\n",
       "  '0.53',\n",
       "  '0.038',\n",
       "  '0.015',\n",
       "  '0.045',\n",
       "  0.08000000000000002,\n",
       "  146735.60052490234),\n",
       " ('Houston Rockets',\n",
       "  'Cuttino Mobley',\n",
       "  4,\n",
       "  '5,688',\n",
       "  '843',\n",
       "  '1,365',\n",
       "  '0.43',\n",
       "  '0.039',\n",
       "  '0.027',\n",
       "  '0.022',\n",
       "  -0.020000000000000018,\n",
       "  146735.60052490234),\n",
       " ('Houston Rockets',\n",
       "  'Moochie Norris',\n",
       "  3,\n",
       "  '1,566',\n",
       "  '886',\n",
       "  '599',\n",
       "  '0.42',\n",
       "  '0.011',\n",
       "  '0.029',\n",
       "  '0.010',\n",
       "  -0.030000000000000027,\n",
       "  146735.60052490234),\n",
       " ('Houston Rockets',\n",
       "  'Luther Head',\n",
       "  3,\n",
       "  '2,131',\n",
       "  '547',\n",
       "  '651',\n",
       "  '0.42',\n",
       "  '0.015',\n",
       "  '0.018',\n",
       "  '0.010',\n",
       "  -0.030000000000000027,\n",
       "  146735.60052490234),\n",
       " ('Houston Rockets',\n",
       "  'Chase Budinger',\n",
       "  3,\n",
       "  '1,980',\n",
       "  '289',\n",
       "  '717',\n",
       "  '0.44',\n",
       "  '0.013',\n",
       "  '0.009',\n",
       "  '0.011',\n",
       "  -0.010000000000000009,\n",
       "  146735.60052490234),\n",
       " ('Houston Rockets',\n",
       "  'Chandler Parsons',\n",
       "  3,\n",
       "  '3,005',\n",
       "  '694',\n",
       "  '1,112',\n",
       "  '0.47',\n",
       "  '0.020',\n",
       "  '0.022',\n",
       "  '0.018',\n",
       "  0.019999999999999962,\n",
       "  146735.60052490234),\n",
       " ('Houston Rockets',\n",
       "  'Steve Francis',\n",
       "  3,\n",
       "  '4,604',\n",
       "  '1,512',\n",
       "  '1,489',\n",
       "  '0.43',\n",
       "  '0.031',\n",
       "  '0.049',\n",
       "  '0.024',\n",
       "  -0.020000000000000018,\n",
       "  146735.60052490234),\n",
       " ('Houston Rockets',\n",
       "  'Clint Capela',\n",
       "  3,\n",
       "  '2,387',\n",
       "  '178',\n",
       "  '1,819',\n",
       "  '0.63',\n",
       "  '0.016',\n",
       "  '0.006',\n",
       "  '0.029',\n",
       "  0.18,\n",
       "  146735.60052490234),\n",
       " ('Houston Rockets',\n",
       "  'Tracy McGrady',\n",
       "  3,\n",
       "  '5,177',\n",
       "  '1,295',\n",
       "  '1,196',\n",
       "  '0.43',\n",
       "  '0.035',\n",
       "  '0.042',\n",
       "  '0.019',\n",
       "  -0.020000000000000018,\n",
       "  146735.60052490234),\n",
       " ('Houston Rockets',\n",
       "  'Kyle Lowry',\n",
       "  2,\n",
       "  '1,598',\n",
       "  '780',\n",
       "  '500',\n",
       "  '0.43',\n",
       "  '0.011',\n",
       "  '0.025',\n",
       "  '0.008',\n",
       "  -0.020000000000000018,\n",
       "  146735.60052490234),\n",
       " ('Houston Rockets',\n",
       "  'Juwan Howard',\n",
       "  2,\n",
       "  '1,720',\n",
       "  '240',\n",
       "  '1,008',\n",
       "  '0.46',\n",
       "  '0.012',\n",
       "  '0.008',\n",
       "  '0.016',\n",
       "  0.010000000000000009,\n",
       "  146735.60052490234),\n",
       " ('Houston Rockets',\n",
       "  'Aaron Brooks',\n",
       "  2,\n",
       "  '2,503',\n",
       "  '675',\n",
       "  '373',\n",
       "  '0.42',\n",
       "  '0.017',\n",
       "  '0.022',\n",
       "  '0.006',\n",
       "  -0.030000000000000027,\n",
       "  146735.60052490234),\n",
       " ('Houston Rockets',\n",
       "  'Corey Brewer',\n",
       "  2,\n",
       "  '1,510',\n",
       "  '283',\n",
       "  '493',\n",
       "  '0.41',\n",
       "  '0.010',\n",
       "  '0.009',\n",
       "  '0.008',\n",
       "  -0.040000000000000036,\n",
       "  146735.60052490234),\n",
       " ('Houston Rockets',\n",
       "  'Eric Gordon',\n",
       "  2,\n",
       "  '2,457',\n",
       "  '339',\n",
       "  '375',\n",
       "  '0.42',\n",
       "  '0.017',\n",
       "  '0.011',\n",
       "  '0.006',\n",
       "  -0.030000000000000027,\n",
       "  146735.60052490234),\n",
       " ('Houston Rockets',\n",
       "  'Dwight Howard',\n",
       "  2,\n",
       "  '2,272',\n",
       "  '227',\n",
       "  '1,704',\n",
       "  '0.61',\n",
       "  '0.015',\n",
       "  '0.007',\n",
       "  '0.027',\n",
       "  0.15999999999999998,\n",
       "  146735.60052490234),\n",
       " ('Houston Rockets',\n",
       "  'Ryan Anderson',\n",
       "  2,\n",
       "  '1,593',\n",
       "  '124',\n",
       "  '661',\n",
       "  '0.42',\n",
       "  '0.011',\n",
       "  '0.004',\n",
       "  '0.011',\n",
       "  -0.030000000000000027,\n",
       "  146735.60052490234),\n",
       " ('Houston Rockets',\n",
       "  'Rafer Alston',\n",
       "  2,\n",
       "  '2,060',\n",
       "  '835',\n",
       "  '538',\n",
       "  '0.38',\n",
       "  '0.014',\n",
       "  '0.027',\n",
       "  '0.009',\n",
       "  -0.07,\n",
       "  146735.60052490234),\n",
       " ('Houston Rockets',\n",
       "  'Donatas Motiejunas',\n",
       "  2,\n",
       "  '1,193',\n",
       "  '159',\n",
       "  '642',\n",
       "  '0.47',\n",
       "  '0.008',\n",
       "  '0.005',\n",
       "  '0.010',\n",
       "  0.019999999999999962,\n",
       "  146735.60052490234),\n",
       " ('Houston Rockets',\n",
       "  'Dikembe Mutombo',\n",
       "  2,\n",
       "  '552',\n",
       "  '23',\n",
       "  '912',\n",
       "  '0.53',\n",
       "  '0.004',\n",
       "  '0.001',\n",
       "  '0.014',\n",
       "  0.08000000000000002,\n",
       "  146735.60052490234),\n",
       " ('Houston Rockets',\n",
       "  'Shane Battier',\n",
       "  2,\n",
       "  '1,572',\n",
       "  '324',\n",
       "  '744',\n",
       "  '0.44',\n",
       "  '0.011',\n",
       "  '0.010',\n",
       "  '0.012',\n",
       "  -0.010000000000000009,\n",
       "  146735.60052490234),\n",
       " ('Houston Rockets',\n",
       "  'Patrick Beverley',\n",
       "  2,\n",
       "  '1,339',\n",
       "  '523',\n",
       "  '644',\n",
       "  '0.43',\n",
       "  '0.009',\n",
       "  '0.017',\n",
       "  '0.010',\n",
       "  -0.020000000000000018,\n",
       "  146735.60052490234),\n",
       " ('Houston Rockets',\n",
       "  'Kenny Thomas',\n",
       "  2,\n",
       "  '1,541',\n",
       "  '211',\n",
       "  '933',\n",
       "  '0.46',\n",
       "  '0.010',\n",
       "  '0.007',\n",
       "  '0.015',\n",
       "  0.010000000000000009,\n",
       "  146735.60052490234),\n",
       " ('Houston Rockets',\n",
       "  'David Wesley',\n",
       "  2,\n",
       "  '1,655',\n",
       "  '470',\n",
       "  '410',\n",
       "  '0.40',\n",
       "  '0.011',\n",
       "  '0.015',\n",
       "  '0.007',\n",
       "  -0.04999999999999999,\n",
       "  146735.60052490234),\n",
       " ('Houston Rockets',\n",
       "  'Courtney Lee',\n",
       "  2,\n",
       "  '1,333',\n",
       "  '184',\n",
       "  '367',\n",
       "  '0.44',\n",
       "  '0.009',\n",
       "  '0.006',\n",
       "  '0.006',\n",
       "  -0.010000000000000009,\n",
       "  146735.60052490234),\n",
       " ('Houston Rockets',\n",
       "  'Kelvin Cato',\n",
       "  2,\n",
       "  '823',\n",
       "  '52',\n",
       "  '956',\n",
       "  '0.55',\n",
       "  '0.006',\n",
       "  '0.002',\n",
       "  '0.015',\n",
       "  0.10000000000000003,\n",
       "  146735.60052490234),\n",
       " ('Houston Rockets',\n",
       "  'Goran Dragic',\n",
       "  2,\n",
       "  '1,297',\n",
       "  '553',\n",
       "  '305',\n",
       "  '0.45',\n",
       "  '0.009',\n",
       "  '0.018',\n",
       "  '0.005',\n",
       "  0.0,\n",
       "  146735.60052490234),\n",
       " ('Houston Rockets',\n",
       "  'Jeremy Lin',\n",
       "  2,\n",
       "  '1,986',\n",
       "  '791',\n",
       "  '431',\n",
       "  '0.44',\n",
       "  '0.014',\n",
       "  '0.026',\n",
       "  '0.007',\n",
       "  -0.010000000000000009,\n",
       "  146735.60052490234),\n",
       " ('Houston Rockets',\n",
       "  'Jason Terry',\n",
       "  2,\n",
       "  '964',\n",
       "  '247',\n",
       "  '202',\n",
       "  '0.41',\n",
       "  '0.007',\n",
       "  '0.008',\n",
       "  '0.003',\n",
       "  -0.040000000000000036,\n",
       "  146735.60052490234),\n",
       " ('Houston Rockets',\n",
       "  'Eddie Griffin',\n",
       "  2,\n",
       "  '1,305',\n",
       "  '136',\n",
       "  '878',\n",
       "  '0.38',\n",
       "  '0.009',\n",
       "  '0.004',\n",
       "  '0.014',\n",
       "  -0.07,\n",
       "  146735.60052490234),\n",
       " ('Houston Rockets',\n",
       "  'Jordan Hill',\n",
       "  1,\n",
       "  '403',\n",
       "  '29',\n",
       "  '310',\n",
       "  '0.49',\n",
       "  '0.003',\n",
       "  '0.001',\n",
       "  '0.005',\n",
       "  0.03999999999999998,\n",
       "  146735.60052490234),\n",
       " ('Houston Rockets',\n",
       "  'Greg Smith',\n",
       "  1,\n",
       "  '420',\n",
       "  '28',\n",
       "  '322',\n",
       "  '0.62',\n",
       "  '0.003',\n",
       "  '0.001',\n",
       "  '0.005',\n",
       "  0.16999999999999998,\n",
       "  146735.60052490234),\n",
       " ('Houston Rockets',\n",
       "  'Josh Smith',\n",
       "  1,\n",
       "  '1,029',\n",
       "  '274',\n",
       "  '531',\n",
       "  '0.42',\n",
       "  '0.007',\n",
       "  '0.009',\n",
       "  '0.008',\n",
       "  -0.030000000000000027,\n",
       "  146735.60052490234),\n",
       " ('Houston Rockets',\n",
       "  'Lou Williams',\n",
       "  1,\n",
       "  '1,418',\n",
       "  '243',\n",
       "  '202',\n",
       "  '0.43',\n",
       "  '0.010',\n",
       "  '0.008',\n",
       "  '0.003',\n",
       "  -0.020000000000000018,\n",
       "  146735.60052490234),\n",
       " ('Houston Rockets',\n",
       "  'James Posey',\n",
       "  1,\n",
       "  '896',\n",
       "  '183',\n",
       "  '423',\n",
       "  '0.41',\n",
       "  '0.006',\n",
       "  '0.006',\n",
       "  '0.007',\n",
       "  -0.040000000000000036,\n",
       "  146735.60052490234),\n",
       " ('Houston Rockets',\n",
       "  'Marcus Camby',\n",
       "  1,\n",
       "  '289',\n",
       "  '106',\n",
       "  '531',\n",
       "  '0.45',\n",
       "  '0.002',\n",
       "  '0.003',\n",
       "  '0.008',\n",
       "  0.0,\n",
       "  146735.60052490234),\n",
       " ('Houston Rockets',\n",
       "  'Thomas Robinson',\n",
       "  1,\n",
       "  '336',\n",
       "  '49',\n",
       "  '315',\n",
       "  '0.43',\n",
       "  '0.002',\n",
       "  '0.002',\n",
       "  '0.005',\n",
       "  -0.020000000000000018,\n",
       "  146735.60052490234),\n",
       " ('Houston Rockets',\n",
       "  'Shandon Anderson',\n",
       "  1,\n",
       "  '713',\n",
       "  '189',\n",
       "  '336',\n",
       "  '0.45',\n",
       "  '0.005',\n",
       "  '0.006',\n",
       "  '0.005',\n",
       "  0.0,\n",
       "  146735.60052490234),\n",
       " ('Houston Rockets',\n",
       "  'Keith Bogans',\n",
       "  1,\n",
       "  '619',\n",
       "  '130',\n",
       "  '252',\n",
       "  '0.40',\n",
       "  '0.004',\n",
       "  '0.004',\n",
       "  '0.004',\n",
       "  -0.04999999999999999,\n",
       "  146735.60052490234),\n",
       " ('Houston Rockets',\n",
       "  'Jared Jeffries',\n",
       "  1,\n",
       "  '371',\n",
       "  '98',\n",
       "  '287',\n",
       "  '0.44',\n",
       "  '0.003',\n",
       "  '0.003',\n",
       "  '0.005',\n",
       "  -0.010000000000000009,\n",
       "  146735.60052490234),\n",
       " ('Houston Rockets',\n",
       "  'Samuel Dalembert',\n",
       "  1,\n",
       "  '488',\n",
       "  '32',\n",
       "  '455',\n",
       "  '0.51',\n",
       "  '0.003',\n",
       "  '0.001',\n",
       "  '0.007',\n",
       "  0.06,\n",
       "  146735.60052490234),\n",
       " ('Houston Rockets',\n",
       "  'Joey Dorsey',\n",
       "  1,\n",
       "  '186',\n",
       "  '28',\n",
       "  '276',\n",
       "  '0.55',\n",
       "  '0.001',\n",
       "  '0.001',\n",
       "  '0.004',\n",
       "  0.10000000000000003,\n",
       "  146735.60052490234),\n",
       " ('Houston Rockets',\n",
       "  'Walt Williams',\n",
       "  1,\n",
       "  '598',\n",
       "  '94',\n",
       "  '245',\n",
       "  '0.39',\n",
       "  '0.004',\n",
       "  '0.003',\n",
       "  '0.004',\n",
       "  -0.06,\n",
       "  146735.60052490234),\n",
       " ('Houston Rockets',\n",
       "  'Jim Jackson',\n",
       "  1,\n",
       "  '1,032',\n",
       "  '224',\n",
       "  '488',\n",
       "  '0.42',\n",
       "  '0.007',\n",
       "  '0.007',\n",
       "  '0.008',\n",
       "  -0.030000000000000027,\n",
       "  146735.60052490234),\n",
       " ('Houston Rockets',\n",
       "  'Patrick Patterson',\n",
       "  1,\n",
       "  '493',\n",
       "  '51',\n",
       "  '288',\n",
       "  '0.44',\n",
       "  '0.003',\n",
       "  '0.002',\n",
       "  '0.005',\n",
       "  -0.010000000000000009,\n",
       "  146735.60052490234),\n",
       " ('Houston Rockets',\n",
       "  'Omri Casspi',\n",
       "  1,\n",
       "  '490',\n",
       "  '85',\n",
       "  '263',\n",
       "  '0.42',\n",
       "  '0.003',\n",
       "  '0.003',\n",
       "  '0.004',\n",
       "  -0.030000000000000027,\n",
       "  146735.60052490234),\n",
       " ('Houston Rockets',\n",
       "  'Pablo Prigioni',\n",
       "  1,\n",
       "  '275',\n",
       "  '174',\n",
       "  '121',\n",
       "  '0.40',\n",
       "  '0.002',\n",
       "  '0.006',\n",
       "  '0.002',\n",
       "  -0.04999999999999999,\n",
       "  146735.60052490234),\n",
       " ('Houston Rockets',\n",
       "  'Montrezl Harrell',\n",
       "  1,\n",
       "  '528',\n",
       "  '64',\n",
       "  '220',\n",
       "  '0.65',\n",
       "  '0.004',\n",
       "  '0.002',\n",
       "  '0.004',\n",
       "  0.2,\n",
       "  146735.60052490234),\n",
       " ('Houston Rockets',\n",
       "  'Maurice Taylor',\n",
       "  1,\n",
       "  '862',\n",
       "  '105',\n",
       "  '382',\n",
       "  '0.48',\n",
       "  '0.006',\n",
       "  '0.003',\n",
       "  '0.006',\n",
       "  0.02999999999999997,\n",
       "  146735.60052490234),\n",
       " ('Houston Rockets',\n",
       "  'KJ McDaniels',\n",
       "  1,\n",
       "  '490',\n",
       "  '74',\n",
       "  '198',\n",
       "  '0.40',\n",
       "  '0.003',\n",
       "  '0.002',\n",
       "  '0.003',\n",
       "  -0.04999999999999999,\n",
       "  146735.60052490234),\n",
       " ('Houston Rockets',\n",
       "  'Sam Dekker',\n",
       "  1,\n",
       "  '500',\n",
       "  '77',\n",
       "  '285',\n",
       "  '0.47',\n",
       "  '0.003',\n",
       "  '0.002',\n",
       "  '0.005',\n",
       "  0.019999999999999962,\n",
       "  146735.60052490234),\n",
       " ('Houston Rockets',\n",
       "  'Kevin Martin',\n",
       "  1,\n",
       "  '1,880',\n",
       "  '200',\n",
       "  '256',\n",
       "  '0.44',\n",
       "  '0.013',\n",
       "  '0.006',\n",
       "  '0.004',\n",
       "  -0.010000000000000009,\n",
       "  146735.60052490234),\n",
       " ('Houston Rockets',\n",
       "  'Omer Asik',\n",
       "  1,\n",
       "  '828',\n",
       "  '74',\n",
       "  '959',\n",
       "  '0.54',\n",
       "  '0.006',\n",
       "  '0.002',\n",
       "  '0.015',\n",
       "  0.09000000000000002,\n",
       "  146735.60052490234),\n",
       " ('Houston Rockets',\n",
       "  'Jordan Hamilton',\n",
       "  1,\n",
       "  '402',\n",
       "  '54',\n",
       "  '192',\n",
       "  '0.39',\n",
       "  '0.003',\n",
       "  '0.002',\n",
       "  '0.003',\n",
       "  -0.06,\n",
       "  146735.60052490234),\n",
       " ('Houston Rockets',\n",
       "  'Chris Paul',\n",
       "  1,\n",
       "  '1,079',\n",
       "  '458',\n",
       "  '313',\n",
       "  '0.46',\n",
       "  '0.007',\n",
       "  '0.015',\n",
       "  '0.005',\n",
       "  0.010000000000000009,\n",
       "  146735.60052490234),\n",
       " ('Houston Rockets',\n",
       "  'Terrence Jones',\n",
       "  1,\n",
       "  '920',\n",
       "  '84',\n",
       "  '524',\n",
       "  '0.54',\n",
       "  '0.006',\n",
       "  '0.003',\n",
       "  '0.008',\n",
       "  0.09000000000000002,\n",
       "  146735.60052490234),\n",
       " ('Houston Rockets',\n",
       "  'PJ Tucker',\n",
       "  1,\n",
       "  '500',\n",
       "  '74',\n",
       "  '459',\n",
       "  '0.39',\n",
       "  '0.003',\n",
       "  '0.002',\n",
       "  '0.007',\n",
       "  -0.06,\n",
       "  146735.60052490234),\n",
       " ('Houston Rockets',\n",
       "  'Bobby Jackson',\n",
       "  1,\n",
       "  '554',\n",
       "  '137',\n",
       "  '180',\n",
       "  '0.40',\n",
       "  '0.004',\n",
       "  '0.004',\n",
       "  '0.003',\n",
       "  -0.04999999999999999,\n",
       "  146735.60052490234),\n",
       " ('Houston Rockets',\n",
       "  'Nene',\n",
       "  1,\n",
       "  '610',\n",
       "  '67',\n",
       "  '281',\n",
       "  '0.62',\n",
       "  '0.004',\n",
       "  '0.002',\n",
       "  '0.004',\n",
       "  0.16999999999999998,\n",
       "  146735.60052490234),\n",
       " ('Houston Rockets',\n",
       "  'Luc Mbah a Moute',\n",
       "  1,\n",
       "  '458',\n",
       "  '55',\n",
       "  '183',\n",
       "  '0.48',\n",
       "  '0.003',\n",
       "  '0.002',\n",
       "  '0.003',\n",
       "  0.02999999999999997,\n",
       "  146735.60052490234),\n",
       " ('Houston Rockets',\n",
       "  'Mike James',\n",
       "  1,\n",
       "  '873',\n",
       "  '266',\n",
       "  '207',\n",
       "  '0.44',\n",
       "  '0.006',\n",
       "  '0.009',\n",
       "  '0.003',\n",
       "  -0.010000000000000009,\n",
       "  146735.60052490234))"
      ]
     },
     "execution_count": 21,
     "metadata": {},
     "output_type": "execute_result"
    }
   ],
   "source": [
    "team = 'Houston Rockets'\n",
    "\n",
    "sql = \"select T.TEAM_NAME,P.PLAYER, count(P.year) as time,format(sum(P.PTS*P.GP),0) as total_pts, format(sum(P.AST*P.GP),0) AS total_ast, \\\n",
    "format(sum(P.REB*P.GP),0) AS total_reb, format(avg(P.FG_PCT),2) as avg_pct,format(sum(P.PTS*P.GP) /T2.team_pts,3),\\\n",
    "format(sum(P.AST*P.GP)/ T2.team_ast,3),\\\n",
    "format(sum(P.REB*P.GP)/T2.team_reb,3),  format(avg(P.FG_PCT),2) - T2.team_fgpct,T2.team_pts \\\n",
    "FROM (RegSeasonPlayer P join RegSeasonTeam T on P.TEAM = T.TEAM_NAME AND P.year = T.year) \\\n",
    "join (select sum(PTS*(W+L)) as team_pts,sum(AST*(W+L)) as team_ast, sum(REB*(W+L)) as team_reb,format(avg(FG_PCT),2) as team_fgpct,TEAM_NAME \\\n",
    "FROM RegSeasonTeam Group by TEAM_NAME) T2 on T.TEAM_NAME = T2.TEAM_NAME \\\n",
    "WHERE T.TEAM_NAME = '\" + team + \"' GROUP BY P.PLAYER ORDER BY time desc\"\n",
    "cursor.execute(sql)\n",
    "team_player = cursor.fetchall()\n",
    "# print(len(team_player))\n",
    "# team_player[0]\n",
    "team_player"
   ]
  },
  {
   "cell_type": "code",
   "execution_count": 73,
   "metadata": {},
   "outputs": [
    {
     "data": {
      "text/plain": [
       "((2000, 97.2, 45, 37, 'Houston Rockets'),\n",
       " (2001, 92.3, 28, 54, 'Houston Rockets'),\n",
       " (2002, 93.8, 43, 39, 'Houston Rockets'),\n",
       " (2003, 89.8, 45, 37, 'Houston Rockets'),\n",
       " (2004, 95.1, 51, 31, 'Houston Rockets'),\n",
       " (2005, 90.1, 34, 48, 'Houston Rockets'),\n",
       " (2006, 97.0, 52, 30, 'Houston Rockets'),\n",
       " (2007, 96.7, 55, 27, 'Houston Rockets'),\n",
       " (2008, 98.4, 53, 29, 'Houston Rockets'),\n",
       " (2009, 102.4, 42, 40, 'Houston Rockets'),\n",
       " (2010, 105.9, 43, 39, 'Houston Rockets'),\n",
       " (2011, 98.1, 34, 32, 'Houston Rockets'),\n",
       " (2012, 106.0, 45, 37, 'Houston Rockets'),\n",
       " (2013, 107.7, 54, 28, 'Houston Rockets'),\n",
       " (2014, 103.9, 56, 26, 'Houston Rockets'),\n",
       " (2015, 106.5, 41, 41, 'Houston Rockets'),\n",
       " (2016, 115.3, 55, 27, 'Houston Rockets'),\n",
       " (2017, 112.4, 65, 17, 'Houston Rockets'))"
      ]
     },
     "execution_count": 73,
     "metadata": {},
     "output_type": "execute_result"
    }
   ],
   "source": [
    "cursor.execute(\"select year,PTS,W,L,TEAM_NAME FROM RegSeasonTeam where TEAM_NAME = 'Houston Rockets'\")\n",
    "cursor.fetchall()"
   ]
  },
  {
   "cell_type": "code",
   "execution_count": null,
   "metadata": {},
   "outputs": [],
   "source": [
    "sql = \"SELECT avg(s.2018season) as salary,avg(r.Speed) as speed ,avg(r.Midrange) as midrange ,avg(r.Finishing) as finishing, \\\n",
    "avg(r.3Pt) as three_pt,avg(r.Dribble) as dribble,avg(r.PostScoring) as postscoring,avg(r.Rebound) as reb,avg(r.Defense) as defense \\\n",
    "FROM Ratings r join Salary s on r.Player = s.Player where s.Player = \" +\"'\"+ name +\"'\" "
   ]
  },
  {
   "cell_type": "code",
   "execution_count": 15,
   "metadata": {},
   "outputs": [
    {
     "data": {
      "text/plain": [
       "\"SELECT s.2018season, r.Player,r.Speed,r.Midrange,r.Finishing,r.3Pt,r.Dribble,r.PostScoring,r.Rebound,r.Defense FROM Ratings r join Salary s on r.Player = s.Player where s.Player = 'James Harden' or s.Player = 'Chris Paul' or s.Player = 'Lebron James' or s.Player = 'Ryan Anderson' or s.Player = 'Kevin Durant'\""
      ]
     },
     "execution_count": 15,
     "metadata": {},
     "output_type": "execute_result"
    }
   ],
   "source": [
    "name1 = 'James Harden'\n",
    "name2 = 'Chris Paul'\n",
    "name3 = 'Lebron James'\n",
    "name4 = 'Ryan Anderson'\n",
    "name5 = 'Kevin Durant'\n",
    "sql = \"SELECT s.2018season, r.Player,r.Speed,r.Midrange,r.Finishing,r.3Pt,r.Dribble,r.PostScoring,r.Rebound,r.Defense \\\n",
    "FROM Ratings r join Salary s on r.Player = s.Player where s.Player = \" +\"'\"+ name1 +\"'\" +\" or s.Player = \" +\"'\"+ name2 +\"'\\\n",
    " or s.Player = \" +\"'\"+ name3 +\"'\"+\" or s.Player = \" +\"'\"+ name4 +\"'\" +\" or s.Player = \" +\"'\"+ name5 +\"'\"\n",
    "sql"
   ]
  },
  {
   "cell_type": "code",
   "execution_count": 19,
   "metadata": {},
   "outputs": [
    {
     "data": {
      "text/plain": [
       "((35654150, 'Chris Paul', 84.0, 75.0, 79.0, 76.0, 85.0, 66.0, 68.0, 85.0),\n",
       " (30570000, 'James Harden', 82.0, 85.0, 90.0, 77.0, 85.0, 66.0, 76.0, 72.0),\n",
       " (30000000, 'Kevin Durant', 80.0, 86.0, 91.0, 81.0, 82.0, 74.0, 80.0, 74.0),\n",
       " (35654150, 'Lebron James', 87.0, 80.0, 95.0, 78.0, 82.0, 84.0, 80.0, 83.0),\n",
       " (20421546, 'Ryan Anderson', 73.0, 75.0, 73.0, 81.0, 63.0, 75.0, 71.0, 72.0))"
      ]
     },
     "execution_count": 19,
     "metadata": {},
     "output_type": "execute_result"
    }
   ],
   "source": [
    "cursor.execute(sql)\n",
    "cursor.fetchall()"
   ]
  },
  {
   "cell_type": "code",
   "execution_count": 6,
   "metadata": {},
   "outputs": [],
   "source": [
    "cursor.close()\n",
    "db.close()"
   ]
  },
  {
   "cell_type": "code",
   "execution_count": null,
   "metadata": {},
   "outputs": [],
   "source": []
  }
 ],
 "metadata": {
  "kernelspec": {
   "display_name": "Python 3",
   "language": "python",
   "name": "python3"
  },
  "language_info": {
   "codemirror_mode": {
    "name": "ipython",
    "version": 3
   },
   "file_extension": ".py",
   "mimetype": "text/x-python",
   "name": "python",
   "nbconvert_exporter": "python",
   "pygments_lexer": "ipython3",
   "version": "3.6.5"
  }
 },
 "nbformat": 4,
 "nbformat_minor": 2
}
